{
 "cells": [
  {
   "cell_type": "code",
   "execution_count": 1,
   "id": "7c7ff114",
   "metadata": {
    "_cell_guid": "b1076dfc-b9ad-4769-8c92-a6c4dae69d19",
    "_uuid": "8f2839f25d086af736a60e9eeb907d3b93b6e0e5",
    "execution": {
     "iopub.execute_input": "2022-07-01T06:18:23.313127Z",
     "iopub.status.busy": "2022-07-01T06:18:23.312508Z",
     "iopub.status.idle": "2022-07-01T06:18:23.335462Z",
     "shell.execute_reply": "2022-07-01T06:18:23.334469Z"
    },
    "papermill": {
     "duration": 0.049504,
     "end_time": "2022-07-01T06:18:23.338135",
     "exception": false,
     "start_time": "2022-07-01T06:18:23.288631",
     "status": "completed"
    },
    "tags": []
   },
   "outputs": [],
   "source": [
    "# This Python 3 environment comes with many helpful analytics libraries installed\n",
    "# It is defined by the kaggle/python Docker image: https://github.com/kaggle/docker-python\n",
    "# For example, here's several helpful packages to load\n",
    "\n",
    "import numpy as np # linear algebra\n",
    "import pandas as pd # data processing, CSV file I/O (e.g. pd.read_csv)\n",
    "\n",
    "# Input data files are available in the read-only \"../input/\" directory\n",
    "# For example, running this (by clicking run or pressing Shift+Enter) will list all files under the input directory\n",
    "\n"
   ]
  },
  {
   "cell_type": "markdown",
   "id": "59edca59",
   "metadata": {
    "papermill": {
     "duration": 0.021329,
     "end_time": "2022-07-01T06:18:23.380531",
     "exception": false,
     "start_time": "2022-07-01T06:18:23.359202",
     "status": "completed"
    },
    "tags": []
   },
   "source": [
    "# **INTRODUCTION**"
   ]
  },
  {
   "cell_type": "markdown",
   "id": "46482166",
   "metadata": {
    "papermill": {
     "duration": 0.021057,
     "end_time": "2022-07-01T06:18:23.422162",
     "exception": false,
     "start_time": "2022-07-01T06:18:23.401105",
     "status": "completed"
    },
    "tags": []
   },
   "source": [
    "***Heart disease is the leading cause of death among all other disease, even cancers. Due to lack of resources in the medical field, the prediction of heart disease occasionally may be a problem. Utilisation of suitable technology support in this regard can prove to be highly beneficial to the medical fraternity and patients. The machine learning techniques can be very well adapted to do the prediction of heart disease. The Machine Learning model utilizes the data such as blood pressure, cholesterol, diabetes and then tries to predict the possible heart disease in patients. This may help in taking preventive measures and hence can try to avoid the possibility of heart disease in patient. So, when a patient is predicted as positive for heart disease, then the medical data for the patient can be closely analysed by the doctors.\n",
    "Some Advantages of the Machine Learning model for Heart Disease are 1.Early prediction of heart disease can be done, 2.The cost of medication will be minimised, 3.Accuracy rate will be high and 4. will have High Performance.\n",
    "***"
   ]
  },
  {
   "cell_type": "markdown",
   "id": "ff42ea31",
   "metadata": {
    "papermill": {
     "duration": 0.020055,
     "end_time": "2022-07-01T06:18:23.463611",
     "exception": false,
     "start_time": "2022-07-01T06:18:23.443556",
     "status": "completed"
    },
    "tags": []
   },
   "source": [
    "# **ABOUT THE DATASET**"
   ]
  },
  {
   "cell_type": "markdown",
   "id": "7b770a96",
   "metadata": {
    "papermill": {
     "duration": 0.020784,
     "end_time": "2022-07-01T06:18:23.504719",
     "exception": false,
     "start_time": "2022-07-01T06:18:23.483935",
     "status": "completed"
    },
    "tags": []
   },
   "source": [
    "* Description:\n",
    "This database contains 76 attributes, but all published experiments refer to using a subset of 14 of them. In particular, the Cleveland database is the only one that has been used by ML researchers to\n",
    "this date. The \"goal\" field refers to the presence of heart disease in the patient. It is integer-valued from 0 (no presence) to 4.\n",
    "\n",
    "*  Objective:\n",
    "Understand the Dataset & cleanup (if required).\n",
    "Build classification models to predict whether or not the patients have Heart Disease.\n",
    "Also fine-tune the hyperparameters & compare the evaluation metrics of various classification algorithms.\n"
   ]
  },
  {
   "cell_type": "markdown",
   "id": "8a0f0daa",
   "metadata": {
    "papermill": {
     "duration": 0.021465,
     "end_time": "2022-07-01T06:18:23.551493",
     "exception": false,
     "start_time": "2022-07-01T06:18:23.530028",
     "status": "completed"
    },
    "tags": []
   },
   "source": [
    "# **TABLE OF CONTENTS**"
   ]
  },
  {
   "cell_type": "markdown",
   "id": "0daa5c21",
   "metadata": {
    "papermill": {
     "duration": 0.020756,
     "end_time": "2022-07-01T06:18:23.592931",
     "exception": false,
     "start_time": "2022-07-01T06:18:23.572175",
     "status": "completed"
    },
    "tags": []
   },
   "source": [
    "\n",
    "**1.IMPORTING LIBRARIES**\n",
    "\n",
    "**2.LOADING DATASET**\n",
    "\n",
    "**3.READING DATA**\n",
    "\n",
    "**4.EXPLORATORY DATA ANALYSIS**\n",
    "\n",
    "**5.CORRELATION**\n",
    "\n",
    "**6.DATA PREPARATION**\n",
    "\n",
    "**7.MODEL BUILDING**\n",
    "\n",
    "**8.MODEL COMPARISON**\n",
    "\n",
    "**9.CASE PREDICTION**\n",
    "\n",
    "**10.MODEL EXPORT**"
   ]
  },
  {
   "cell_type": "markdown",
   "id": "0263ec6a",
   "metadata": {
    "papermill": {
     "duration": 0.020143,
     "end_time": "2022-07-01T06:18:23.633274",
     "exception": false,
     "start_time": "2022-07-01T06:18:23.613131",
     "status": "completed"
    },
    "tags": []
   },
   "source": [
    "# **1.IMPORTING LIBRARIES**"
   ]
  },
  {
   "cell_type": "code",
   "execution_count": 3,
   "id": "b75ce191",
   "metadata": {
    "execution": {
     "iopub.execute_input": "2022-07-01T06:18:23.676292Z",
     "iopub.status.busy": "2022-07-01T06:18:23.675112Z",
     "iopub.status.idle": "2022-07-01T06:18:25.256238Z",
     "shell.execute_reply": "2022-07-01T06:18:25.254998Z"
    },
    "papermill": {
     "duration": 1.605396,
     "end_time": "2022-07-01T06:18:25.258884",
     "exception": false,
     "start_time": "2022-07-01T06:18:23.653488",
     "status": "completed"
    },
    "tags": []
   },
   "outputs": [],
   "source": [
    "import pandas as pd\n",
    "import numpy as np\n",
    "from matplotlib import pyplot as plt\n",
    "%matplotlib inline\n",
    "import seaborn as sns\n",
    "from sklearn.model_selection import train_test_split\n",
    "from sklearn.naive_bayes import MultinomialNB\n",
    "from sklearn.linear_model import LogisticRegression\n",
    "from sklearn.ensemble import RandomForestClassifier\n",
    "from sklearn import tree\n",
    "from sklearn.svm import SVC\n",
    "import pickle"
   ]
  },
  {
   "cell_type": "markdown",
   "id": "3b1c7110",
   "metadata": {
    "papermill": {
     "duration": 0.020959,
     "end_time": "2022-07-01T06:18:25.301816",
     "exception": false,
     "start_time": "2022-07-01T06:18:25.280857",
     "status": "completed"
    },
    "tags": []
   },
   "source": [
    "# **2. LOADING DATASET**"
   ]
  },
  {
   "cell_type": "code",
   "execution_count": 4,
   "id": "60709d97",
   "metadata": {
    "execution": {
     "iopub.execute_input": "2022-07-01T06:18:25.346300Z",
     "iopub.status.busy": "2022-07-01T06:18:25.345776Z",
     "iopub.status.idle": "2022-07-01T06:18:25.384766Z",
     "shell.execute_reply": "2022-07-01T06:18:25.383850Z"
    },
    "papermill": {
     "duration": 0.064781,
     "end_time": "2022-07-01T06:18:25.387160",
     "exception": false,
     "start_time": "2022-07-01T06:18:25.322379",
     "status": "completed"
    },
    "tags": []
   },
   "outputs": [
    {
     "data": {
      "text/html": [
       "<div>\n",
       "<style scoped>\n",
       "    .dataframe tbody tr th:only-of-type {\n",
       "        vertical-align: middle;\n",
       "    }\n",
       "\n",
       "    .dataframe tbody tr th {\n",
       "        vertical-align: top;\n",
       "    }\n",
       "\n",
       "    .dataframe thead th {\n",
       "        text-align: right;\n",
       "    }\n",
       "</style>\n",
       "<table border=\"1\" class=\"dataframe\">\n",
       "  <thead>\n",
       "    <tr style=\"text-align: right;\">\n",
       "      <th></th>\n",
       "      <th>age</th>\n",
       "      <th>sex</th>\n",
       "      <th>cp</th>\n",
       "      <th>trestbps</th>\n",
       "      <th>chol</th>\n",
       "      <th>fbs</th>\n",
       "      <th>restecg</th>\n",
       "      <th>thalach</th>\n",
       "      <th>exang</th>\n",
       "      <th>oldpeak</th>\n",
       "      <th>slope</th>\n",
       "      <th>ca</th>\n",
       "      <th>thal</th>\n",
       "      <th>target</th>\n",
       "    </tr>\n",
       "  </thead>\n",
       "  <tbody>\n",
       "    <tr>\n",
       "      <th>0</th>\n",
       "      <td>63</td>\n",
       "      <td>1</td>\n",
       "      <td>3</td>\n",
       "      <td>145</td>\n",
       "      <td>233</td>\n",
       "      <td>1</td>\n",
       "      <td>0</td>\n",
       "      <td>150</td>\n",
       "      <td>0</td>\n",
       "      <td>2.3</td>\n",
       "      <td>0</td>\n",
       "      <td>0</td>\n",
       "      <td>1</td>\n",
       "      <td>1</td>\n",
       "    </tr>\n",
       "    <tr>\n",
       "      <th>1</th>\n",
       "      <td>37</td>\n",
       "      <td>1</td>\n",
       "      <td>2</td>\n",
       "      <td>130</td>\n",
       "      <td>250</td>\n",
       "      <td>0</td>\n",
       "      <td>1</td>\n",
       "      <td>187</td>\n",
       "      <td>0</td>\n",
       "      <td>3.5</td>\n",
       "      <td>0</td>\n",
       "      <td>0</td>\n",
       "      <td>2</td>\n",
       "      <td>1</td>\n",
       "    </tr>\n",
       "    <tr>\n",
       "      <th>2</th>\n",
       "      <td>41</td>\n",
       "      <td>0</td>\n",
       "      <td>1</td>\n",
       "      <td>130</td>\n",
       "      <td>204</td>\n",
       "      <td>0</td>\n",
       "      <td>0</td>\n",
       "      <td>172</td>\n",
       "      <td>0</td>\n",
       "      <td>1.4</td>\n",
       "      <td>2</td>\n",
       "      <td>0</td>\n",
       "      <td>2</td>\n",
       "      <td>1</td>\n",
       "    </tr>\n",
       "    <tr>\n",
       "      <th>3</th>\n",
       "      <td>56</td>\n",
       "      <td>1</td>\n",
       "      <td>1</td>\n",
       "      <td>120</td>\n",
       "      <td>236</td>\n",
       "      <td>0</td>\n",
       "      <td>1</td>\n",
       "      <td>178</td>\n",
       "      <td>0</td>\n",
       "      <td>0.8</td>\n",
       "      <td>2</td>\n",
       "      <td>0</td>\n",
       "      <td>2</td>\n",
       "      <td>1</td>\n",
       "    </tr>\n",
       "    <tr>\n",
       "      <th>4</th>\n",
       "      <td>57</td>\n",
       "      <td>0</td>\n",
       "      <td>0</td>\n",
       "      <td>120</td>\n",
       "      <td>354</td>\n",
       "      <td>0</td>\n",
       "      <td>1</td>\n",
       "      <td>163</td>\n",
       "      <td>1</td>\n",
       "      <td>0.6</td>\n",
       "      <td>2</td>\n",
       "      <td>0</td>\n",
       "      <td>2</td>\n",
       "      <td>1</td>\n",
       "    </tr>\n",
       "  </tbody>\n",
       "</table>\n",
       "</div>"
      ],
      "text/plain": [
       "   age  sex  cp  trestbps  chol  fbs  restecg  thalach  exang  oldpeak  slope  \\\n",
       "0   63    1   3       145   233    1        0      150      0      2.3      0   \n",
       "1   37    1   2       130   250    0        1      187      0      3.5      0   \n",
       "2   41    0   1       130   204    0        0      172      0      1.4      2   \n",
       "3   56    1   1       120   236    0        1      178      0      0.8      2   \n",
       "4   57    0   0       120   354    0        1      163      1      0.6      2   \n",
       "\n",
       "   ca  thal  target  \n",
       "0   0     1       1  \n",
       "1   0     2       1  \n",
       "2   0     2       1  \n",
       "3   0     2       1  \n",
       "4   0     2       1  "
      ]
     },
     "execution_count": 4,
     "metadata": {},
     "output_type": "execute_result"
    }
   ],
   "source": [
    "data1=pd.read_csv(\"heart.csv\")\n",
    "data1.head()"
   ]
  },
  {
   "cell_type": "markdown",
   "id": "5d7f9c1d",
   "metadata": {
    "execution": {
     "iopub.execute_input": "2022-06-14T20:02:43.799128Z",
     "iopub.status.busy": "2022-06-14T20:02:43.798097Z",
     "iopub.status.idle": "2022-06-14T20:02:43.837736Z",
     "shell.execute_reply": "2022-06-14T20:02:43.836408Z",
     "shell.execute_reply.started": "2022-06-14T20:02:43.798987Z"
    },
    "papermill": {
     "duration": 0.0206,
     "end_time": "2022-07-01T06:18:25.428713",
     "exception": false,
     "start_time": "2022-07-01T06:18:25.408113",
     "status": "completed"
    },
    "tags": []
   },
   "source": [
    "\n",
    "\n",
    "**Attributes description.**\n",
    "\n",
    "  1. age :-Age of the patient.       \n",
    "  \n",
    "  2. sex :- Sex of the patient(0=women,1=male).  \n",
    "  \n",
    "  3. cp :- Chest pain type(0=typical angina,1=atypical angina,2=non-anginal         pain,3=asymptomatic).\n",
    "  \n",
    "  4. trestbps :- Resting blood pressure.   \n",
    "  \n",
    "  5. chol :- Cholesterol in mg/dl.      \n",
    "  \n",
    "  6. fbs :- Fasting Blood Sugar(0 = not present; 1 =present).   \n",
    "  \n",
    "  7. restecg :- Resting electrocardiographic(ECG) results.\n",
    "   (0 = normal, 1 = abnormal ST-T Wave (mild symptoms to severe problems signals non-   normal heart beat), 2 = Possible or definite left ventricular hypertrophy Enlarged heart's main pumping chamber (severe condition) \n",
    "  \n",
    "  8. thalach :- maximum heart rate achieved    \n",
    "  \n",
    "  9. exang :- exercise-induced angina pectoris (1 - yes; 0 - no) \n",
    " pectoris (a disease marked by brief sudden attacks of chest pain or discomfort caused by deficient oxygenation of the heart muscles usually due to impaired blood flow to the heart)\n",
    "          \n",
    "  10. oldpeak :-  ST depression induced by exercise relative to rest looks at stress of heart during exercise unhealthy heart will stress more\n",
    "  \n",
    "  11. slope :- the slope of the peak exercise ST segment   \n",
    "          (0: Upsloping: it shows better heart rate with exercise (uncommon)\n",
    "           1: Flatsloping: it shows the minimal change (typical healthy heart)\n",
    "           2: Downslopins: it shows the signs of unhealthy heart)   \n",
    "           \n",
    "  12. ca :- Number of major blood vessels with a fluorescent colour (0-4).\n",
    "            (Fluorescent colour is mainly associated with diabetes)  \n",
    "  \n",
    "13. thal :- Thalium stress result. *(The results of this test will tell you about the flow of blood                to your heart through your coronary arteries).\n",
    "             (0,1: normal, 2: fixed defect: used to be defect but ok now\n",
    "               3: reversable defect: no proper blood movement when exercising)\n",
    "          \n",
    "  14. target :-  Have Heart disease or not (0=no, 1=yes)    \n"
   ]
  },
  {
   "cell_type": "code",
   "execution_count": 5,
   "id": "3deb765b",
   "metadata": {
    "execution": {
     "iopub.execute_input": "2022-07-01T06:18:25.472754Z",
     "iopub.status.busy": "2022-07-01T06:18:25.472168Z",
     "iopub.status.idle": "2022-07-01T06:18:25.478427Z",
     "shell.execute_reply": "2022-07-01T06:18:25.477564Z"
    },
    "papermill": {
     "duration": 0.030427,
     "end_time": "2022-07-01T06:18:25.480302",
     "exception": false,
     "start_time": "2022-07-01T06:18:25.449875",
     "status": "completed"
    },
    "tags": []
   },
   "outputs": [
    {
     "data": {
      "text/plain": [
       "(303, 14)"
      ]
     },
     "execution_count": 5,
     "metadata": {},
     "output_type": "execute_result"
    }
   ],
   "source": [
    "data1.shape"
   ]
  },
  {
   "cell_type": "markdown",
   "id": "a1c5748d",
   "metadata": {
    "papermill": {
     "duration": 0.020614,
     "end_time": "2022-07-01T06:18:25.521868",
     "exception": false,
     "start_time": "2022-07-01T06:18:25.501254",
     "status": "completed"
    },
    "tags": []
   },
   "source": [
    "**In this Dataset there are 303 Indices and 14 attribute.\n",
    "9 categorical variables and 5 continuous variables are there.**"
   ]
  },
  {
   "cell_type": "code",
   "execution_count": 6,
   "id": "8bf3e60f",
   "metadata": {
    "execution": {
     "iopub.execute_input": "2022-07-01T06:18:25.566161Z",
     "iopub.status.busy": "2022-07-01T06:18:25.565428Z",
     "iopub.status.idle": "2022-07-01T06:18:25.593404Z",
     "shell.execute_reply": "2022-07-01T06:18:25.592179Z"
    },
    "papermill": {
     "duration": 0.052789,
     "end_time": "2022-07-01T06:18:25.595765",
     "exception": false,
     "start_time": "2022-07-01T06:18:25.542976",
     "status": "completed"
    },
    "tags": []
   },
   "outputs": [
    {
     "name": "stdout",
     "output_type": "stream",
     "text": [
      "<class 'pandas.core.frame.DataFrame'>\n",
      "RangeIndex: 303 entries, 0 to 302\n",
      "Data columns (total 14 columns):\n",
      " #   Column    Non-Null Count  Dtype  \n",
      "---  ------    --------------  -----  \n",
      " 0   age       303 non-null    int64  \n",
      " 1   sex       303 non-null    int64  \n",
      " 2   cp        303 non-null    int64  \n",
      " 3   trestbps  303 non-null    int64  \n",
      " 4   chol      303 non-null    int64  \n",
      " 5   fbs       303 non-null    int64  \n",
      " 6   restecg   303 non-null    int64  \n",
      " 7   thalach   303 non-null    int64  \n",
      " 8   exang     303 non-null    int64  \n",
      " 9   oldpeak   303 non-null    float64\n",
      " 10  slope     303 non-null    int64  \n",
      " 11  ca        303 non-null    int64  \n",
      " 12  thal      303 non-null    int64  \n",
      " 13  target    303 non-null    int64  \n",
      "dtypes: float64(1), int64(13)\n",
      "memory usage: 33.3 KB\n"
     ]
    }
   ],
   "source": [
    "data1.info()"
   ]
  },
  {
   "cell_type": "markdown",
   "id": "f6ef7126",
   "metadata": {
    "papermill": {
     "duration": 0.020637,
     "end_time": "2022-07-01T06:18:25.637465",
     "exception": false,
     "start_time": "2022-07-01T06:18:25.616828",
     "status": "completed"
    },
    "tags": []
   },
   "source": [
    "### All the features are in the numerical format."
   ]
  },
  {
   "cell_type": "code",
   "execution_count": 7,
   "id": "352ba2a8",
   "metadata": {
    "execution": {
     "iopub.execute_input": "2022-07-01T06:18:25.681889Z",
     "iopub.status.busy": "2022-07-01T06:18:25.680623Z",
     "iopub.status.idle": "2022-07-01T06:18:25.689880Z",
     "shell.execute_reply": "2022-07-01T06:18:25.688914Z"
    },
    "papermill": {
     "duration": 0.033374,
     "end_time": "2022-07-01T06:18:25.691769",
     "exception": false,
     "start_time": "2022-07-01T06:18:25.658395",
     "status": "completed"
    },
    "tags": []
   },
   "outputs": [
    {
     "data": {
      "text/plain": [
       "age         0\n",
       "sex         0\n",
       "cp          0\n",
       "trestbps    0\n",
       "chol        0\n",
       "fbs         0\n",
       "restecg     0\n",
       "thalach     0\n",
       "exang       0\n",
       "oldpeak     0\n",
       "slope       0\n",
       "ca          0\n",
       "thal        0\n",
       "target      0\n",
       "dtype: int64"
      ]
     },
     "execution_count": 7,
     "metadata": {},
     "output_type": "execute_result"
    }
   ],
   "source": [
    "data1.isnull().sum()"
   ]
  },
  {
   "cell_type": "markdown",
   "id": "d399c5ee",
   "metadata": {
    "execution": {
     "iopub.execute_input": "2022-06-15T17:07:55.483307Z",
     "iopub.status.busy": "2022-06-15T17:07:55.482601Z",
     "iopub.status.idle": "2022-06-15T17:07:55.488871Z",
     "shell.execute_reply": "2022-06-15T17:07:55.487443Z",
     "shell.execute_reply.started": "2022-06-15T17:07:55.483211Z"
    },
    "papermill": {
     "duration": 0.020806,
     "end_time": "2022-07-01T06:18:25.733770",
     "exception": false,
     "start_time": "2022-07-01T06:18:25.712964",
     "status": "completed"
    },
    "tags": []
   },
   "source": [
    "### There is no null values in the Dataset. "
   ]
  },
  {
   "cell_type": "code",
   "execution_count": 8,
   "id": "1de83d11",
   "metadata": {
    "execution": {
     "iopub.execute_input": "2022-07-01T06:18:25.778937Z",
     "iopub.status.busy": "2022-07-01T06:18:25.777880Z",
     "iopub.status.idle": "2022-07-01T06:18:25.830121Z",
     "shell.execute_reply": "2022-07-01T06:18:25.829228Z"
    },
    "papermill": {
     "duration": 0.076696,
     "end_time": "2022-07-01T06:18:25.832120",
     "exception": false,
     "start_time": "2022-07-01T06:18:25.755424",
     "status": "completed"
    },
    "tags": []
   },
   "outputs": [
    {
     "data": {
      "text/html": [
       "<div>\n",
       "<style scoped>\n",
       "    .dataframe tbody tr th:only-of-type {\n",
       "        vertical-align: middle;\n",
       "    }\n",
       "\n",
       "    .dataframe tbody tr th {\n",
       "        vertical-align: top;\n",
       "    }\n",
       "\n",
       "    .dataframe thead th {\n",
       "        text-align: right;\n",
       "    }\n",
       "</style>\n",
       "<table border=\"1\" class=\"dataframe\">\n",
       "  <thead>\n",
       "    <tr style=\"text-align: right;\">\n",
       "      <th></th>\n",
       "      <th>age</th>\n",
       "      <th>sex</th>\n",
       "      <th>cp</th>\n",
       "      <th>trestbps</th>\n",
       "      <th>chol</th>\n",
       "      <th>fbs</th>\n",
       "      <th>restecg</th>\n",
       "      <th>thalach</th>\n",
       "      <th>exang</th>\n",
       "      <th>oldpeak</th>\n",
       "      <th>slope</th>\n",
       "      <th>ca</th>\n",
       "      <th>thal</th>\n",
       "      <th>target</th>\n",
       "    </tr>\n",
       "  </thead>\n",
       "  <tbody>\n",
       "    <tr>\n",
       "      <th>count</th>\n",
       "      <td>303.000000</td>\n",
       "      <td>303.000000</td>\n",
       "      <td>303.000000</td>\n",
       "      <td>303.000000</td>\n",
       "      <td>303.000000</td>\n",
       "      <td>303.000000</td>\n",
       "      <td>303.000000</td>\n",
       "      <td>303.000000</td>\n",
       "      <td>303.000000</td>\n",
       "      <td>303.000000</td>\n",
       "      <td>303.000000</td>\n",
       "      <td>303.000000</td>\n",
       "      <td>303.000000</td>\n",
       "      <td>303.000000</td>\n",
       "    </tr>\n",
       "    <tr>\n",
       "      <th>mean</th>\n",
       "      <td>54.366337</td>\n",
       "      <td>0.683168</td>\n",
       "      <td>0.966997</td>\n",
       "      <td>131.623762</td>\n",
       "      <td>246.264026</td>\n",
       "      <td>0.148515</td>\n",
       "      <td>0.528053</td>\n",
       "      <td>149.646865</td>\n",
       "      <td>0.326733</td>\n",
       "      <td>1.039604</td>\n",
       "      <td>1.399340</td>\n",
       "      <td>0.729373</td>\n",
       "      <td>2.313531</td>\n",
       "      <td>0.544554</td>\n",
       "    </tr>\n",
       "    <tr>\n",
       "      <th>std</th>\n",
       "      <td>9.082101</td>\n",
       "      <td>0.466011</td>\n",
       "      <td>1.032052</td>\n",
       "      <td>17.538143</td>\n",
       "      <td>51.830751</td>\n",
       "      <td>0.356198</td>\n",
       "      <td>0.525860</td>\n",
       "      <td>22.905161</td>\n",
       "      <td>0.469794</td>\n",
       "      <td>1.161075</td>\n",
       "      <td>0.616226</td>\n",
       "      <td>1.022606</td>\n",
       "      <td>0.612277</td>\n",
       "      <td>0.498835</td>\n",
       "    </tr>\n",
       "    <tr>\n",
       "      <th>min</th>\n",
       "      <td>29.000000</td>\n",
       "      <td>0.000000</td>\n",
       "      <td>0.000000</td>\n",
       "      <td>94.000000</td>\n",
       "      <td>126.000000</td>\n",
       "      <td>0.000000</td>\n",
       "      <td>0.000000</td>\n",
       "      <td>71.000000</td>\n",
       "      <td>0.000000</td>\n",
       "      <td>0.000000</td>\n",
       "      <td>0.000000</td>\n",
       "      <td>0.000000</td>\n",
       "      <td>0.000000</td>\n",
       "      <td>0.000000</td>\n",
       "    </tr>\n",
       "    <tr>\n",
       "      <th>25%</th>\n",
       "      <td>47.500000</td>\n",
       "      <td>0.000000</td>\n",
       "      <td>0.000000</td>\n",
       "      <td>120.000000</td>\n",
       "      <td>211.000000</td>\n",
       "      <td>0.000000</td>\n",
       "      <td>0.000000</td>\n",
       "      <td>133.500000</td>\n",
       "      <td>0.000000</td>\n",
       "      <td>0.000000</td>\n",
       "      <td>1.000000</td>\n",
       "      <td>0.000000</td>\n",
       "      <td>2.000000</td>\n",
       "      <td>0.000000</td>\n",
       "    </tr>\n",
       "    <tr>\n",
       "      <th>50%</th>\n",
       "      <td>55.000000</td>\n",
       "      <td>1.000000</td>\n",
       "      <td>1.000000</td>\n",
       "      <td>130.000000</td>\n",
       "      <td>240.000000</td>\n",
       "      <td>0.000000</td>\n",
       "      <td>1.000000</td>\n",
       "      <td>153.000000</td>\n",
       "      <td>0.000000</td>\n",
       "      <td>0.800000</td>\n",
       "      <td>1.000000</td>\n",
       "      <td>0.000000</td>\n",
       "      <td>2.000000</td>\n",
       "      <td>1.000000</td>\n",
       "    </tr>\n",
       "    <tr>\n",
       "      <th>75%</th>\n",
       "      <td>61.000000</td>\n",
       "      <td>1.000000</td>\n",
       "      <td>2.000000</td>\n",
       "      <td>140.000000</td>\n",
       "      <td>274.500000</td>\n",
       "      <td>0.000000</td>\n",
       "      <td>1.000000</td>\n",
       "      <td>166.000000</td>\n",
       "      <td>1.000000</td>\n",
       "      <td>1.600000</td>\n",
       "      <td>2.000000</td>\n",
       "      <td>1.000000</td>\n",
       "      <td>3.000000</td>\n",
       "      <td>1.000000</td>\n",
       "    </tr>\n",
       "    <tr>\n",
       "      <th>max</th>\n",
       "      <td>77.000000</td>\n",
       "      <td>1.000000</td>\n",
       "      <td>3.000000</td>\n",
       "      <td>200.000000</td>\n",
       "      <td>564.000000</td>\n",
       "      <td>1.000000</td>\n",
       "      <td>2.000000</td>\n",
       "      <td>202.000000</td>\n",
       "      <td>1.000000</td>\n",
       "      <td>6.200000</td>\n",
       "      <td>2.000000</td>\n",
       "      <td>4.000000</td>\n",
       "      <td>3.000000</td>\n",
       "      <td>1.000000</td>\n",
       "    </tr>\n",
       "  </tbody>\n",
       "</table>\n",
       "</div>"
      ],
      "text/plain": [
       "              age         sex          cp    trestbps        chol         fbs  \\\n",
       "count  303.000000  303.000000  303.000000  303.000000  303.000000  303.000000   \n",
       "mean    54.366337    0.683168    0.966997  131.623762  246.264026    0.148515   \n",
       "std      9.082101    0.466011    1.032052   17.538143   51.830751    0.356198   \n",
       "min     29.000000    0.000000    0.000000   94.000000  126.000000    0.000000   \n",
       "25%     47.500000    0.000000    0.000000  120.000000  211.000000    0.000000   \n",
       "50%     55.000000    1.000000    1.000000  130.000000  240.000000    0.000000   \n",
       "75%     61.000000    1.000000    2.000000  140.000000  274.500000    0.000000   \n",
       "max     77.000000    1.000000    3.000000  200.000000  564.000000    1.000000   \n",
       "\n",
       "          restecg     thalach       exang     oldpeak       slope          ca  \\\n",
       "count  303.000000  303.000000  303.000000  303.000000  303.000000  303.000000   \n",
       "mean     0.528053  149.646865    0.326733    1.039604    1.399340    0.729373   \n",
       "std      0.525860   22.905161    0.469794    1.161075    0.616226    1.022606   \n",
       "min      0.000000   71.000000    0.000000    0.000000    0.000000    0.000000   \n",
       "25%      0.000000  133.500000    0.000000    0.000000    1.000000    0.000000   \n",
       "50%      1.000000  153.000000    0.000000    0.800000    1.000000    0.000000   \n",
       "75%      1.000000  166.000000    1.000000    1.600000    2.000000    1.000000   \n",
       "max      2.000000  202.000000    1.000000    6.200000    2.000000    4.000000   \n",
       "\n",
       "             thal      target  \n",
       "count  303.000000  303.000000  \n",
       "mean     2.313531    0.544554  \n",
       "std      0.612277    0.498835  \n",
       "min      0.000000    0.000000  \n",
       "25%      2.000000    0.000000  \n",
       "50%      2.000000    1.000000  \n",
       "75%      3.000000    1.000000  \n",
       "max      3.000000    1.000000  "
      ]
     },
     "execution_count": 8,
     "metadata": {},
     "output_type": "execute_result"
    }
   ],
   "source": [
    "data1.describe()"
   ]
  },
  {
   "cell_type": "markdown",
   "id": "b9b459d0",
   "metadata": {
    "papermill": {
     "duration": 0.021515,
     "end_time": "2022-07-01T06:18:25.875045",
     "exception": false,
     "start_time": "2022-07-01T06:18:25.853530",
     "status": "completed"
    },
    "tags": []
   },
   "source": [
    "# **4. EXPLORATORY DATA ANALYSIS**"
   ]
  },
  {
   "cell_type": "code",
   "execution_count": 9,
   "id": "0ffd1eed",
   "metadata": {
    "execution": {
     "iopub.execute_input": "2022-07-01T06:18:25.921002Z",
     "iopub.status.busy": "2022-07-01T06:18:25.919917Z",
     "iopub.status.idle": "2022-07-01T06:18:25.927977Z",
     "shell.execute_reply": "2022-07-01T06:18:25.927062Z"
    },
    "papermill": {
     "duration": 0.032854,
     "end_time": "2022-07-01T06:18:25.929989",
     "exception": false,
     "start_time": "2022-07-01T06:18:25.897135",
     "status": "completed"
    },
    "tags": []
   },
   "outputs": [
    {
     "data": {
      "text/plain": [
       "1    165\n",
       "0    138\n",
       "Name: target, dtype: int64"
      ]
     },
     "execution_count": 9,
     "metadata": {},
     "output_type": "execute_result"
    }
   ],
   "source": [
    "data1['target'].value_counts()"
   ]
  },
  {
   "cell_type": "code",
   "execution_count": 10,
   "id": "f9100bca",
   "metadata": {
    "execution": {
     "iopub.execute_input": "2022-07-01T06:18:25.975919Z",
     "iopub.status.busy": "2022-07-01T06:18:25.975202Z",
     "iopub.status.idle": "2022-07-01T06:18:26.189932Z",
     "shell.execute_reply": "2022-07-01T06:18:26.188708Z"
    },
    "papermill": {
     "duration": 0.240836,
     "end_time": "2022-07-01T06:18:26.192999",
     "exception": false,
     "start_time": "2022-07-01T06:18:25.952163",
     "status": "completed"
    },
    "tags": []
   },
   "outputs": [
    {
     "data": {
      "text/plain": [
       "<AxesSubplot:title={'center':'HEART DISEASE DISTRIBUTION'}, ylabel='target'>"
      ]
     },
     "execution_count": 10,
     "metadata": {},
     "output_type": "execute_result"
    },
    {
     "data": {
      "image/png": "[encoded data removed]",
      "text/plain": [
       "<Figure size 800x800 with 1 Axes>"
      ]
     },
     "metadata": {},
     "output_type": "display_data"
    }
   ],
   "source": [
    "plt.title('HEART DISEASE DISTRIBUTION')\n",
    "data1['target'].value_counts().plot(kind=\"pie\", autopct='%.1f%%', figsize=(8,8),shadow=True)"
   ]
  },
  {
   "cell_type": "markdown",
   "id": "77408a56",
   "metadata": {
    "papermill": {
     "duration": 0.022578,
     "end_time": "2022-07-01T06:18:26.257041",
     "exception": false,
     "start_time": "2022-07-01T06:18:26.234463",
     "status": "completed"
    },
    "tags": []
   },
   "source": [
    "### Observation\n",
    "\n",
    "### The total number of patients who have heart diseases are higher than that of the patients have no heart diseases.\n",
    "### This dataset is slightly imbalanced."
   ]
  },
  {
   "cell_type": "code",
   "execution_count": 11,
   "id": "eb4f1615",
   "metadata": {
    "execution": {
     "iopub.execute_input": "2022-07-01T06:18:26.304072Z",
     "iopub.status.busy": "2022-07-01T06:18:26.303574Z",
     "iopub.status.idle": "2022-07-01T06:18:26.483279Z",
     "shell.execute_reply": "2022-07-01T06:18:26.482053Z"
    },
    "papermill": {
     "duration": 0.206153,
     "end_time": "2022-07-01T06:18:26.485759",
     "exception": false,
     "start_time": "2022-07-01T06:18:26.279606",
     "status": "completed"
    },
    "tags": []
   },
   "outputs": [
    {
     "data": {
      "text/plain": [
       "<AxesSubplot:title={'center':'Age Vs Heart Disease'}, xlabel='target', ylabel='age'>"
      ]
     },
     "execution_count": 11,
     "metadata": {},
     "output_type": "execute_result"
    },
    {
     "data": {
      "image/png": "[encoded data removed]",
      "text/plain": [
       "<Figure size 640x480 with 1 Axes>"
      ]
     },
     "metadata": {},
     "output_type": "display_data"
    }
   ],
   "source": [
    "plt.title('Age Vs Heart Disease')\n",
    "sns.boxplot(x='target', y='age', data=data1,palette='rainbow')"
   ]
  },
  {
   "cell_type": "markdown",
   "id": "51e8d074",
   "metadata": {
    "execution": {
     "iopub.execute_input": "2022-06-15T17:12:31.914201Z",
     "iopub.status.busy": "2022-06-15T17:12:31.913785Z",
     "iopub.status.idle": "2022-06-15T17:12:31.918604Z",
     "shell.execute_reply": "2022-06-15T17:12:31.917686Z",
     "shell.execute_reply.started": "2022-06-15T17:12:31.914159Z"
    },
    "papermill": {
     "duration": 0.023131,
     "end_time": "2022-07-01T06:18:26.533366",
     "exception": false,
     "start_time": "2022-07-01T06:18:26.510235",
     "status": "completed"
    },
    "tags": []
   },
   "source": [
    "### Observation\n",
    "\n",
    "### There is an outlier at the lower part of the box plot of age group who don't have heart                 disease.\n",
    "### Mean age for people who don't have heart disease higher than that of the other category."
   ]
  },
  {
   "cell_type": "code",
   "execution_count": 12,
   "id": "27af04b1",
   "metadata": {
    "execution": {
     "iopub.execute_input": "2022-07-01T06:18:26.581435Z",
     "iopub.status.busy": "2022-07-01T06:18:26.581051Z",
     "iopub.status.idle": "2022-07-01T06:18:26.591731Z",
     "shell.execute_reply": "2022-07-01T06:18:26.590883Z"
    },
    "papermill": {
     "duration": 0.037236,
     "end_time": "2022-07-01T06:18:26.593693",
     "exception": false,
     "start_time": "2022-07-01T06:18:26.556457",
     "status": "completed"
    },
    "tags": []
   },
   "outputs": [
    {
     "data": {
      "text/plain": [
       "sex  target\n",
       "0    1          72\n",
       "     0          24\n",
       "1    0         114\n",
       "     1          93\n",
       "Name: target, dtype: int64"
      ]
     },
     "execution_count": 12,
     "metadata": {},
     "output_type": "execute_result"
    }
   ],
   "source": [
    "data1.groupby(['sex'])['target'].value_counts()"
   ]
  },
  {
   "cell_type": "code",
   "execution_count": 13,
   "id": "45fce078",
   "metadata": {
    "execution": {
     "iopub.execute_input": "2022-07-01T06:18:26.642432Z",
     "iopub.status.busy": "2022-07-01T06:18:26.641686Z",
     "iopub.status.idle": "2022-07-01T06:18:26.825536Z",
     "shell.execute_reply": "2022-07-01T06:18:26.824070Z"
    },
    "papermill": {
     "duration": 0.211235,
     "end_time": "2022-07-01T06:18:26.828127",
     "exception": false,
     "start_time": "2022-07-01T06:18:26.616892",
     "status": "completed"
    },
    "tags": []
   },
   "outputs": [
    {
     "data": {
      "text/plain": [
       "<AxesSubplot:xlabel='sex', ylabel='count'>"
      ]
     },
     "execution_count": 13,
     "metadata": {},
     "output_type": "execute_result"
    },
    {
     "data": {
      "image/png": "[encoded data removed]",
      "text/plain": [
       "<Figure size 640x480 with 1 Axes>"
      ]
     },
     "metadata": {},
     "output_type": "display_data"
    }
   ],
   "source": [
    "sns.countplot(x=data1['sex'],hue=data1['target'])"
   ]
  },
  {
   "cell_type": "markdown",
   "id": "073a0b12",
   "metadata": {
    "papermill": {
     "duration": 0.022708,
     "end_time": "2022-07-01T06:18:26.874405",
     "exception": false,
     "start_time": "2022-07-01T06:18:26.851697",
     "status": "completed"
    },
    "tags": []
   },
   "source": [
    "### Observation\n",
    "### From the above count plot we can see that males have a very high risk of getting heart disease than female."
   ]
  },
  {
   "cell_type": "code",
   "execution_count": 14,
   "id": "903d4632",
   "metadata": {
    "execution": {
     "iopub.execute_input": "2022-07-01T06:18:26.923871Z",
     "iopub.status.busy": "2022-07-01T06:18:26.923201Z",
     "iopub.status.idle": "2022-07-01T06:18:27.087068Z",
     "shell.execute_reply": "2022-07-01T06:18:27.085164Z"
    },
    "papermill": {
     "duration": 0.192868,
     "end_time": "2022-07-01T06:18:27.090748",
     "exception": false,
     "start_time": "2022-07-01T06:18:26.897880",
     "status": "completed"
    },
    "tags": []
   },
   "outputs": [
    {
     "data": {
      "text/plain": [
       "<AxesSubplot:title={'center':'Chest Pain Type'}, ylabel='cp'>"
      ]
     },
     "execution_count": 14,
     "metadata": {},
     "output_type": "execute_result"
    },
    {
     "data": {
      "image/png": "[encoded data removed]",
      "text/plain": [
       "<Figure size 800x800 with 1 Axes>"
      ]
     },
     "metadata": {},
     "output_type": "display_data"
    }
   ],
   "source": [
    "plt.title(\"Chest Pain Type\")\n",
    "data1['cp'].value_counts().plot(kind=\"pie\", autopct='%.1f%%', figsize=(8,8),shadow=True)"
   ]
  },
  {
   "cell_type": "markdown",
   "id": "12052091",
   "metadata": {
    "papermill": {
     "duration": 0.026572,
     "end_time": "2022-07-01T06:18:27.162200",
     "exception": false,
     "start_time": "2022-07-01T06:18:27.135628",
     "status": "completed"
    },
    "tags": []
   },
   "source": [
    "### Observation\n",
    "### Chest pain type 0(typical angina) have the highest number and chest pain type 3 (asymptomatic) have the lowest number compared to other chest pain types."
   ]
  },
  {
   "cell_type": "code",
   "execution_count": 15,
   "id": "675e1fa7",
   "metadata": {
    "execution": {
     "iopub.execute_input": "2022-07-01T06:18:27.211497Z",
     "iopub.status.busy": "2022-07-01T06:18:27.210847Z",
     "iopub.status.idle": "2022-07-01T06:18:27.380915Z",
     "shell.execute_reply": "2022-07-01T06:18:27.380260Z"
    },
    "papermill": {
     "duration": 0.196687,
     "end_time": "2022-07-01T06:18:27.382649",
     "exception": false,
     "start_time": "2022-07-01T06:18:27.185962",
     "status": "completed"
    },
    "tags": []
   },
   "outputs": [
    {
     "data": {
      "text/plain": [
       "<AxesSubplot:xlabel='target', ylabel='trestbps'>"
      ]
     },
     "execution_count": 15,
     "metadata": {},
     "output_type": "execute_result"
    },
    {
     "data": {
      "image/png": "[encoded data removed]",
      "text/plain": [
       "<Figure size 640x480 with 1 Axes>"
      ]
     },
     "metadata": {},
     "output_type": "display_data"
    }
   ],
   "source": [
    "sns.boxplot(x='target', y='trestbps', data=data1,palette='rainbow')"
   ]
  },
  {
   "cell_type": "markdown",
   "id": "c4c77e67",
   "metadata": {
    "papermill": {
     "duration": 0.023993,
     "end_time": "2022-07-01T06:18:27.430981",
     "exception": false,
     "start_time": "2022-07-01T06:18:27.406988",
     "status": "completed"
    },
    "tags": []
   },
   "source": [
    "### Observation\n",
    "###  From the above box plot we can see that there are outliers at the upper part of the boxplot in both the categories. \n",
    "###  The Mean value of both the resting blood pressue types almost equal. "
   ]
  },
  {
   "cell_type": "code",
   "execution_count": 15,
   "id": "28d39a02",
   "metadata": {
    "execution": {
     "iopub.execute_input": "2022-07-01T06:18:27.480332Z",
     "iopub.status.busy": "2022-07-01T06:18:27.479941Z",
     "iopub.status.idle": "2022-07-01T06:18:27.644474Z",
     "shell.execute_reply": "2022-07-01T06:18:27.643693Z"
    },
    "papermill": {
     "duration": 0.191826,
     "end_time": "2022-07-01T06:18:27.646528",
     "exception": false,
     "start_time": "2022-07-01T06:18:27.454702",
     "status": "completed"
    },
    "tags": []
   },
   "outputs": [
    {
     "data": {
      "text/plain": [
       "<AxesSubplot:xlabel='target', ylabel='chol'>"
      ]
     },
     "execution_count": 15,
     "metadata": {},
     "output_type": "execute_result"
    },
    {
     "data": {
      "image/png": "[encoded data removed]",
      "text/plain": [
       "<Figure size 432x288 with 1 Axes>"
      ]
     },
     "metadata": {
      "needs_background": "light"
     },
     "output_type": "display_data"
    }
   ],
   "source": [
    "sns.boxplot(x='target', y='chol', data=data1,palette='rainbow')"
   ]
  },
  {
   "cell_type": "markdown",
   "id": "d62b797e",
   "metadata": {
    "papermill": {
     "duration": 0.024793,
     "end_time": "2022-07-01T06:18:27.696013",
     "exception": false,
     "start_time": "2022-07-01T06:18:27.671220",
     "status": "completed"
    },
    "tags": []
   },
   "source": [
    "### Observation\n",
    "### Mean Value of cholestrole for people who don't have heart disease is slightly higher than that of the mean value of cholestrole for the people who have heart disease.\n",
    "### There are some outliers in the upper part of both boxplots."
   ]
  },
  {
   "cell_type": "code",
   "execution_count": 16,
   "id": "67290ca0",
   "metadata": {
    "execution": {
     "iopub.execute_input": "2022-07-01T06:18:27.748723Z",
     "iopub.status.busy": "2022-07-01T06:18:27.748123Z",
     "iopub.status.idle": "2022-07-01T06:18:27.985808Z",
     "shell.execute_reply": "2022-07-01T06:18:27.985160Z"
    },
    "papermill": {
     "duration": 0.266966,
     "end_time": "2022-07-01T06:18:27.987561",
     "exception": false,
     "start_time": "2022-07-01T06:18:27.720595",
     "status": "completed"
    },
    "tags": []
   },
   "outputs": [
    {
     "data": {
      "text/plain": [
       "<AxesSubplot:xlabel='age', ylabel='chol'>"
      ]
     },
     "execution_count": 16,
     "metadata": {},
     "output_type": "execute_result"
    },
    {
     "data": {
      "image/png": "[encoded data removed]",
      "text/plain": [
       "<Figure size 432x288 with 1 Axes>"
      ]
     },
     "metadata": {
      "needs_background": "light"
     },
     "output_type": "display_data"
    }
   ],
   "source": [
    "sns.scatterplot(data=data1, x=\"age\", y=\"chol\", hue=\"target\")"
   ]
  },
  {
   "cell_type": "markdown",
   "id": "3ba3711d",
   "metadata": {
    "papermill": {
     "duration": 0.024998,
     "end_time": "2022-07-01T06:18:28.038103",
     "exception": false,
     "start_time": "2022-07-01T06:18:28.013105",
     "status": "completed"
    },
    "tags": []
   },
   "source": [
    "### Observation\n",
    "### Number of Peoples who have high Cholestrole are between the age group 45 and 70."
   ]
  },
  {
   "cell_type": "code",
   "execution_count": 17,
   "id": "cdd70a30",
   "metadata": {
    "execution": {
     "iopub.execute_input": "2022-07-01T06:18:28.090464Z",
     "iopub.status.busy": "2022-07-01T06:18:28.089894Z",
     "iopub.status.idle": "2022-07-01T06:18:28.098270Z",
     "shell.execute_reply": "2022-07-01T06:18:28.097522Z"
    },
    "papermill": {
     "duration": 0.036825,
     "end_time": "2022-07-01T06:18:28.100214",
     "exception": false,
     "start_time": "2022-07-01T06:18:28.063389",
     "status": "completed"
    },
    "tags": []
   },
   "outputs": [
    {
     "data": {
      "text/plain": [
       "fbs  target\n",
       "0    1         142\n",
       "     0         116\n",
       "1    1          23\n",
       "     0          22\n",
       "Name: target, dtype: int64"
      ]
     },
     "execution_count": 17,
     "metadata": {},
     "output_type": "execute_result"
    }
   ],
   "source": [
    "data1.groupby(['fbs'])['target'].value_counts()"
   ]
  },
  {
   "cell_type": "code",
   "execution_count": 18,
   "id": "ba4a2582",
   "metadata": {
    "execution": {
     "iopub.execute_input": "2022-07-01T06:18:28.152612Z",
     "iopub.status.busy": "2022-07-01T06:18:28.152253Z",
     "iopub.status.idle": "2022-07-01T06:18:28.336184Z",
     "shell.execute_reply": "2022-07-01T06:18:28.335162Z"
    },
    "papermill": {
     "duration": 0.212854,
     "end_time": "2022-07-01T06:18:28.338449",
     "exception": false,
     "start_time": "2022-07-01T06:18:28.125595",
     "status": "completed"
    },
    "tags": []
   },
   "outputs": [
    {
     "data": {
      "image/png": "[encoded data removed]",
      "text/plain": [
       "<Figure size 432x288 with 1 Axes>"
      ]
     },
     "metadata": {
      "needs_background": "light"
     },
     "output_type": "display_data"
    }
   ],
   "source": [
    "sns.countplot(x=data1['fbs'],hue=data1['target'])\n",
    "plt.show()"
   ]
  },
  {
   "cell_type": "markdown",
   "id": "c09a13ab",
   "metadata": {
    "execution": {
     "iopub.execute_input": "2022-06-15T17:19:54.855849Z",
     "iopub.status.busy": "2022-06-15T17:19:54.855432Z",
     "iopub.status.idle": "2022-06-15T17:19:54.860902Z",
     "shell.execute_reply": "2022-06-15T17:19:54.859762Z",
     "shell.execute_reply.started": "2022-06-15T17:19:54.855814Z"
    },
    "papermill": {
     "duration": 0.028349,
     "end_time": "2022-07-01T06:18:28.393002",
     "exception": false,
     "start_time": "2022-07-01T06:18:28.364653",
     "status": "completed"
    },
    "tags": []
   },
   "source": [
    "### Observation\n",
    "### People have no fasting blood suger rate have a high risk of getting heart disease."
   ]
  },
  {
   "cell_type": "code",
   "execution_count": 19,
   "id": "b841b7ed",
   "metadata": {
    "execution": {
     "iopub.execute_input": "2022-07-01T06:18:28.446125Z",
     "iopub.status.busy": "2022-07-01T06:18:28.445748Z",
     "iopub.status.idle": "2022-07-01T06:18:28.623139Z",
     "shell.execute_reply": "2022-07-01T06:18:28.622126Z"
    },
    "papermill": {
     "duration": 0.206919,
     "end_time": "2022-07-01T06:18:28.625871",
     "exception": false,
     "start_time": "2022-07-01T06:18:28.418952",
     "status": "completed"
    },
    "tags": []
   },
   "outputs": [
    {
     "data": {
      "text/plain": [
       "<AxesSubplot:xlabel='target', ylabel='thalach'>"
      ]
     },
     "execution_count": 19,
     "metadata": {},
     "output_type": "execute_result"
    },
    {
     "data": {
      "image/png": "[encoded data removed]",
      "text/plain": [
       "<Figure size 432x288 with 1 Axes>"
      ]
     },
     "metadata": {
      "needs_background": "light"
     },
     "output_type": "display_data"
    }
   ],
   "source": [
    "sns.boxplot(x='target', y='thalach', data=data1,palette='rainbow')"
   ]
  },
  {
   "cell_type": "markdown",
   "id": "e412799c",
   "metadata": {
    "papermill": {
     "duration": 0.025972,
     "end_time": "2022-07-01T06:18:28.678625",
     "exception": false,
     "start_time": "2022-07-01T06:18:28.652653",
     "status": "completed"
    },
    "tags": []
   },
   "source": [
    "### Observation\n",
    "### People who have maximum heart rate have a high risk of getting heart disease.\n",
    "### Some Outliers are detected at the lower part of the both boxplots."
   ]
  },
  {
   "cell_type": "code",
   "execution_count": 20,
   "id": "c3b7b688",
   "metadata": {
    "execution": {
     "iopub.execute_input": "2022-07-01T06:18:28.733619Z",
     "iopub.status.busy": "2022-07-01T06:18:28.732592Z",
     "iopub.status.idle": "2022-07-01T06:18:28.898037Z",
     "shell.execute_reply": "2022-07-01T06:18:28.897149Z"
    },
    "papermill": {
     "duration": 0.194989,
     "end_time": "2022-07-01T06:18:28.900276",
     "exception": false,
     "start_time": "2022-07-01T06:18:28.705287",
     "status": "completed"
    },
    "tags": []
   },
   "outputs": [
    {
     "data": {
      "text/plain": [
       "<AxesSubplot:xlabel='target', ylabel='thalach'>"
      ]
     },
     "execution_count": 20,
     "metadata": {},
     "output_type": "execute_result"
    },
    {
     "data": {
      "image/png": "[encoded data removed]",
      "text/plain": [
       "<Figure size 432x288 with 1 Axes>"
      ]
     },
     "metadata": {
      "needs_background": "light"
     },
     "output_type": "display_data"
    }
   ],
   "source": [
    "sns.stripplot(x=\"target\", y=\"thalach\", data=data1)"
   ]
  },
  {
   "cell_type": "code",
   "execution_count": 21,
   "id": "2d48cc10",
   "metadata": {
    "execution": {
     "iopub.execute_input": "2022-07-01T06:18:28.955540Z",
     "iopub.status.busy": "2022-07-01T06:18:28.954799Z",
     "iopub.status.idle": "2022-07-01T06:18:29.205579Z",
     "shell.execute_reply": "2022-07-01T06:18:29.204453Z"
    },
    "papermill": {
     "duration": 0.28115,
     "end_time": "2022-07-01T06:18:29.207889",
     "exception": false,
     "start_time": "2022-07-01T06:18:28.926739",
     "status": "completed"
    },
    "tags": []
   },
   "outputs": [
    {
     "data": {
      "text/plain": [
       "<AxesSubplot:xlabel='age', ylabel='thalach'>"
      ]
     },
     "execution_count": 21,
     "metadata": {},
     "output_type": "execute_result"
    },
    {
     "data": {
      "image/png": "[encoded data removed]",
      "text/plain": [
       "<Figure size 432x288 with 1 Axes>"
      ]
     },
     "metadata": {
      "needs_background": "light"
     },
     "output_type": "display_data"
    }
   ],
   "source": [
    "sns.scatterplot(data=data1, x=\"age\", y=\"thalach\", hue=\"target\")"
   ]
  },
  {
   "cell_type": "markdown",
   "id": "6a8cd28f",
   "metadata": {
    "execution": {
     "iopub.execute_input": "2022-06-15T17:27:49.615038Z",
     "iopub.status.busy": "2022-06-15T17:27:49.614612Z",
     "iopub.status.idle": "2022-06-15T17:27:49.618817Z",
     "shell.execute_reply": "2022-06-15T17:27:49.618107Z",
     "shell.execute_reply.started": "2022-06-15T17:27:49.615006Z"
    },
    "papermill": {
     "duration": 0.027078,
     "end_time": "2022-07-01T06:18:29.262890",
     "exception": false,
     "start_time": "2022-07-01T06:18:29.235812",
     "status": "completed"
    },
    "tags": []
   },
   "source": [
    "### Observation\n",
    "### People who have detected maximum heart rate have a high risk of getting heart disease.\n",
    "### People who have detected maximum heart rate falling under the age group between 40 and 60."
   ]
  },
  {
   "cell_type": "code",
   "execution_count": 22,
   "id": "d004e79e",
   "metadata": {
    "execution": {
     "iopub.execute_input": "2022-07-01T06:18:29.319752Z",
     "iopub.status.busy": "2022-07-01T06:18:29.318825Z",
     "iopub.status.idle": "2022-07-01T06:18:29.328686Z",
     "shell.execute_reply": "2022-07-01T06:18:29.327726Z"
    },
    "papermill": {
     "duration": 0.040256,
     "end_time": "2022-07-01T06:18:29.330615",
     "exception": false,
     "start_time": "2022-07-01T06:18:29.290359",
     "status": "completed"
    },
    "tags": []
   },
   "outputs": [
    {
     "data": {
      "text/plain": [
       "exang  target\n",
       "0      1         142\n",
       "       0          62\n",
       "1      0          76\n",
       "       1          23\n",
       "Name: target, dtype: int64"
      ]
     },
     "execution_count": 22,
     "metadata": {},
     "output_type": "execute_result"
    }
   ],
   "source": [
    "data1.groupby(['exang'])['target'].value_counts()"
   ]
  },
  {
   "cell_type": "code",
   "execution_count": 23,
   "id": "dae378a5",
   "metadata": {
    "execution": {
     "iopub.execute_input": "2022-07-01T06:18:29.388369Z",
     "iopub.status.busy": "2022-07-01T06:18:29.388009Z",
     "iopub.status.idle": "2022-07-01T06:18:29.573786Z",
     "shell.execute_reply": "2022-07-01T06:18:29.572631Z"
    },
    "papermill": {
     "duration": 0.217852,
     "end_time": "2022-07-01T06:18:29.576054",
     "exception": false,
     "start_time": "2022-07-01T06:18:29.358202",
     "status": "completed"
    },
    "tags": []
   },
   "outputs": [
    {
     "data": {
      "image/png": "[encoded data removed]",
      "text/plain": [
       "<Figure size 432x288 with 1 Axes>"
      ]
     },
     "metadata": {
      "needs_background": "light"
     },
     "output_type": "display_data"
    }
   ],
   "source": [
    "sns.countplot(x=data1['exang'],hue=data1['target'])\n",
    "plt.show()"
   ]
  },
  {
   "cell_type": "markdown",
   "id": "9e5e55a2",
   "metadata": {
    "papermill": {
     "duration": 0.028084,
     "end_time": "2022-07-01T06:18:29.632342",
     "exception": false,
     "start_time": "2022-07-01T06:18:29.604258",
     "status": "completed"
    },
    "tags": []
   },
   "source": [
    "### Observation\n",
    "### People who have no exercise-induced angina pectoris have a very high rate of getting heart disease. "
   ]
  },
  {
   "cell_type": "code",
   "execution_count": 24,
   "id": "22476d46",
   "metadata": {
    "execution": {
     "iopub.execute_input": "2022-07-01T06:18:29.690647Z",
     "iopub.status.busy": "2022-07-01T06:18:29.690267Z",
     "iopub.status.idle": "2022-07-01T06:18:29.871562Z",
     "shell.execute_reply": "2022-07-01T06:18:29.870477Z"
    },
    "papermill": {
     "duration": 0.213214,
     "end_time": "2022-07-01T06:18:29.874256",
     "exception": false,
     "start_time": "2022-07-01T06:18:29.661042",
     "status": "completed"
    },
    "tags": []
   },
   "outputs": [
    {
     "data": {
      "text/plain": [
       "<AxesSubplot:xlabel='target', ylabel='oldpeak'>"
      ]
     },
     "execution_count": 24,
     "metadata": {},
     "output_type": "execute_result"
    },
    {
     "data": {
      "image/png": "[encoded data removed]",
      "text/plain": [
       "<Figure size 432x288 with 1 Axes>"
      ]
     },
     "metadata": {
      "needs_background": "light"
     },
     "output_type": "display_data"
    }
   ],
   "source": [
    "sns.boxplot(x='target', y='oldpeak', data=data1,palette='rainbow')"
   ]
  },
  {
   "cell_type": "markdown",
   "id": "a8b0bd2b",
   "metadata": {
    "papermill": {
     "duration": 0.028284,
     "end_time": "2022-07-01T06:18:29.933285",
     "exception": false,
     "start_time": "2022-07-01T06:18:29.905001",
     "status": "completed"
    },
    "tags": []
   },
   "source": [
    "### Observation\n",
    "### Peoples with low 'ST depression induced by exercise relative to rest' have a high risk of getting heart disease.\n",
    "### Some outliers are seen in the upper part of both the categories. "
   ]
  },
  {
   "cell_type": "code",
   "execution_count": 25,
   "id": "90414eea",
   "metadata": {
    "execution": {
     "iopub.execute_input": "2022-07-01T06:18:29.990933Z",
     "iopub.status.busy": "2022-07-01T06:18:29.990558Z",
     "iopub.status.idle": "2022-07-01T06:18:29.999253Z",
     "shell.execute_reply": "2022-07-01T06:18:29.998677Z"
    },
    "papermill": {
     "duration": 0.039628,
     "end_time": "2022-07-01T06:18:30.001001",
     "exception": false,
     "start_time": "2022-07-01T06:18:29.961373",
     "status": "completed"
    },
    "tags": []
   },
   "outputs": [
    {
     "data": {
      "text/plain": [
       "slope  target\n",
       "0      0          12\n",
       "       1           9\n",
       "1      0          91\n",
       "       1          49\n",
       "2      1         107\n",
       "       0          35\n",
       "Name: target, dtype: int64"
      ]
     },
     "execution_count": 25,
     "metadata": {},
     "output_type": "execute_result"
    }
   ],
   "source": [
    "data1.groupby(['slope'])['target'].value_counts()"
   ]
  },
  {
   "cell_type": "code",
   "execution_count": 26,
   "id": "579ba1b7",
   "metadata": {
    "execution": {
     "iopub.execute_input": "2022-07-01T06:18:30.060216Z",
     "iopub.status.busy": "2022-07-01T06:18:30.059596Z",
     "iopub.status.idle": "2022-07-01T06:18:30.242527Z",
     "shell.execute_reply": "2022-07-01T06:18:30.241757Z"
    },
    "papermill": {
     "duration": 0.21427,
     "end_time": "2022-07-01T06:18:30.244590",
     "exception": false,
     "start_time": "2022-07-01T06:18:30.030320",
     "status": "completed"
    },
    "tags": []
   },
   "outputs": [
    {
     "data": {
      "image/png": "[encoded data removed]",
      "text/plain": [
       "<Figure size 432x288 with 1 Axes>"
      ]
     },
     "metadata": {
      "needs_background": "light"
     },
     "output_type": "display_data"
    }
   ],
   "source": [
    "sns.countplot(x=data1['slope'],hue=data1['target'])\n",
    "plt.show()"
   ]
  },
  {
   "cell_type": "markdown",
   "id": "4d0b425d",
   "metadata": {
    "execution": {
     "iopub.execute_input": "2022-06-15T17:30:25.801353Z",
     "iopub.status.busy": "2022-06-15T17:30:25.800234Z",
     "iopub.status.idle": "2022-06-15T17:30:25.805632Z",
     "shell.execute_reply": "2022-06-15T17:30:25.804556Z",
     "shell.execute_reply.started": "2022-06-15T17:30:25.801315Z"
    },
    "papermill": {
     "duration": 0.029229,
     "end_time": "2022-07-01T06:18:30.302467",
     "exception": false,
     "start_time": "2022-07-01T06:18:30.273238",
     "status": "completed"
    },
    "tags": []
   },
   "source": [
    "### Observation\n",
    "### People who have a unhealthy heart(slope=2) have a high risk of getting heart disease."
   ]
  },
  {
   "cell_type": "code",
   "execution_count": 27,
   "id": "796ac8e6",
   "metadata": {
    "execution": {
     "iopub.execute_input": "2022-07-01T06:18:30.362274Z",
     "iopub.status.busy": "2022-07-01T06:18:30.361614Z",
     "iopub.status.idle": "2022-07-01T06:18:30.370382Z",
     "shell.execute_reply": "2022-07-01T06:18:30.369629Z"
    },
    "papermill": {
     "duration": 0.04116,
     "end_time": "2022-07-01T06:18:30.372244",
     "exception": false,
     "start_time": "2022-07-01T06:18:30.331084",
     "status": "completed"
    },
    "tags": []
   },
   "outputs": [
    {
     "data": {
      "text/plain": [
       "ca  target\n",
       "0   1         130\n",
       "    0          45\n",
       "1   0          44\n",
       "    1          21\n",
       "2   0          31\n",
       "    1           7\n",
       "3   0          17\n",
       "    1           3\n",
       "4   1           4\n",
       "    0           1\n",
       "Name: target, dtype: int64"
      ]
     },
     "execution_count": 27,
     "metadata": {},
     "output_type": "execute_result"
    }
   ],
   "source": [
    "data1.groupby(['ca'])['target'].value_counts()"
   ]
  },
  {
   "cell_type": "code",
   "execution_count": 28,
   "id": "70c5ccfc",
   "metadata": {
    "execution": {
     "iopub.execute_input": "2022-07-01T06:18:30.432926Z",
     "iopub.status.busy": "2022-07-01T06:18:30.432516Z",
     "iopub.status.idle": "2022-07-01T06:18:30.775894Z",
     "shell.execute_reply": "2022-07-01T06:18:30.775250Z"
    },
    "papermill": {
     "duration": 0.375864,
     "end_time": "2022-07-01T06:18:30.777849",
     "exception": false,
     "start_time": "2022-07-01T06:18:30.401985",
     "status": "completed"
    },
    "tags": []
   },
   "outputs": [
    {
     "data": {
      "image/png": "[encoded data removed]",
      "text/plain": [
       "<Figure size 432x288 with 1 Axes>"
      ]
     },
     "metadata": {
      "needs_background": "light"
     },
     "output_type": "display_data"
    }
   ],
   "source": [
    "sns.countplot(x=data1['ca'],hue=data1['target'])\n",
    "plt.show()"
   ]
  },
  {
   "cell_type": "markdown",
   "id": "580ef5df",
   "metadata": {
    "papermill": {
     "duration": 0.028917,
     "end_time": "2022-07-01T06:18:30.836040",
     "exception": false,
     "start_time": "2022-07-01T06:18:30.807123",
     "status": "completed"
    },
    "tags": []
   },
   "source": [
    "### Observation\n",
    "### People who have ca value=4(number of major vessels colored by flourosopy) high risk of getting heart disease."
   ]
  },
  {
   "cell_type": "code",
   "execution_count": 29,
   "id": "1360b5f1",
   "metadata": {
    "execution": {
     "iopub.execute_input": "2022-07-01T06:18:30.895896Z",
     "iopub.status.busy": "2022-07-01T06:18:30.895231Z",
     "iopub.status.idle": "2022-07-01T06:18:30.903655Z",
     "shell.execute_reply": "2022-07-01T06:18:30.903011Z"
    },
    "papermill": {
     "duration": 0.040612,
     "end_time": "2022-07-01T06:18:30.905535",
     "exception": false,
     "start_time": "2022-07-01T06:18:30.864923",
     "status": "completed"
    },
    "tags": []
   },
   "outputs": [
    {
     "data": {
      "text/plain": [
       "thal  target\n",
       "0     0           1\n",
       "      1           1\n",
       "1     0          12\n",
       "      1           6\n",
       "2     1         130\n",
       "      0          36\n",
       "3     0          89\n",
       "      1          28\n",
       "Name: target, dtype: int64"
      ]
     },
     "execution_count": 29,
     "metadata": {},
     "output_type": "execute_result"
    }
   ],
   "source": [
    "data1.groupby(['thal'])['target'].value_counts()"
   ]
  },
  {
   "cell_type": "code",
   "execution_count": 30,
   "id": "b365ecb9",
   "metadata": {
    "execution": {
     "iopub.execute_input": "2022-07-01T06:18:30.967022Z",
     "iopub.status.busy": "2022-07-01T06:18:30.966402Z",
     "iopub.status.idle": "2022-07-01T06:18:31.160090Z",
     "shell.execute_reply": "2022-07-01T06:18:31.159425Z"
    },
    "papermill": {
     "duration": 0.226476,
     "end_time": "2022-07-01T06:18:31.161980",
     "exception": false,
     "start_time": "2022-07-01T06:18:30.935504",
     "status": "completed"
    },
    "tags": []
   },
   "outputs": [
    {
     "data": {
      "image/png": "[encoded data removed]",
      "text/plain": [
       "<Figure size 432x288 with 1 Axes>"
      ]
     },
     "metadata": {
      "needs_background": "light"
     },
     "output_type": "display_data"
    }
   ],
   "source": [
    "sns.countplot(x=data1['thal'],hue=data1['target'])\n",
    "plt.show()"
   ]
  },
  {
   "cell_type": "markdown",
   "id": "c92fab7f",
   "metadata": {
    "papermill": {
     "duration": 0.029966,
     "end_time": "2022-07-01T06:18:31.222219",
     "exception": false,
     "start_time": "2022-07-01T06:18:31.192253",
     "status": "completed"
    },
    "tags": []
   },
   "source": [
    "### Observation\n",
    "### People who have thal value '2' have high risk of getting heart disease."
   ]
  },
  {
   "cell_type": "markdown",
   "id": "8092ba27",
   "metadata": {
    "papermill": {
     "duration": 0.029761,
     "end_time": "2022-07-01T06:18:31.282397",
     "exception": false,
     "start_time": "2022-07-01T06:18:31.252636",
     "status": "completed"
    },
    "tags": []
   },
   "source": [
    "# **5. CORRELATION**"
   ]
  },
  {
   "cell_type": "markdown",
   "id": "b9ecbf8f",
   "metadata": {
    "papermill": {
     "duration": 0.029259,
     "end_time": "2022-07-01T06:18:31.342126",
     "exception": false,
     "start_time": "2022-07-01T06:18:31.312867",
     "status": "completed"
    },
    "tags": []
   },
   "source": [
    "### Correlation map/heatmap of numerical variables to show correlation level/values for each variables with others."
   ]
  },
  {
   "cell_type": "code",
   "execution_count": 31,
   "id": "c261a352",
   "metadata": {
    "execution": {
     "iopub.execute_input": "2022-07-01T06:18:31.403981Z",
     "iopub.status.busy": "2022-07-01T06:18:31.403361Z",
     "iopub.status.idle": "2022-07-01T06:18:32.480236Z",
     "shell.execute_reply": "2022-07-01T06:18:32.479107Z"
    },
    "papermill": {
     "duration": 1.1116,
     "end_time": "2022-07-01T06:18:32.483791",
     "exception": false,
     "start_time": "2022-07-01T06:18:31.372191",
     "status": "completed"
    },
    "tags": []
   },
   "outputs": [
    {
     "data": {
      "text/plain": [
       "<AxesSubplot:>"
      ]
     },
     "execution_count": 31,
     "metadata": {},
     "output_type": "execute_result"
    },
    {
     "data": {
      "image/png": "[encoded data removed]",
      "text/plain": [
       "<Figure size 1080x1080 with 2 Axes>"
      ]
     },
     "metadata": {
      "needs_background": "light"
     },
     "output_type": "display_data"
    }
   ],
   "source": [
    "plt.figure(figsize = (15,15))\n",
    "sns.heatmap(data1.corr(), vmin = -1, vmax = +1, annot = True, cmap = 'coolwarm')"
   ]
  },
  {
   "cell_type": "markdown",
   "id": "ea8447e1",
   "metadata": {
    "papermill": {
     "duration": 0.032648,
     "end_time": "2022-07-01T06:18:32.549737",
     "exception": false,
     "start_time": "2022-07-01T06:18:32.517089",
     "status": "completed"
    },
    "tags": []
   },
   "source": [
    "# **6. DATA PREPERATION**"
   ]
  },
  {
   "cell_type": "code",
   "execution_count": 32,
   "id": "3b744067",
   "metadata": {
    "execution": {
     "iopub.execute_input": "2022-07-01T06:18:32.617505Z",
     "iopub.status.busy": "2022-07-01T06:18:32.616227Z",
     "iopub.status.idle": "2022-07-01T06:18:32.632863Z",
     "shell.execute_reply": "2022-07-01T06:18:32.632206Z"
    },
    "papermill": {
     "duration": 0.052644,
     "end_time": "2022-07-01T06:18:32.634773",
     "exception": false,
     "start_time": "2022-07-01T06:18:32.582129",
     "status": "completed"
    },
    "tags": []
   },
   "outputs": [
    {
     "data": {
      "text/html": [
       "<div>\n",
       "<style scoped>\n",
       "    .dataframe tbody tr th:only-of-type {\n",
       "        vertical-align: middle;\n",
       "    }\n",
       "\n",
       "    .dataframe tbody tr th {\n",
       "        vertical-align: top;\n",
       "    }\n",
       "\n",
       "    .dataframe thead th {\n",
       "        text-align: right;\n",
       "    }\n",
       "</style>\n",
       "<table border=\"1\" class=\"dataframe\">\n",
       "  <thead>\n",
       "    <tr style=\"text-align: right;\">\n",
       "      <th></th>\n",
       "      <th>age</th>\n",
       "      <th>sex</th>\n",
       "      <th>cp</th>\n",
       "      <th>trestbps</th>\n",
       "      <th>chol</th>\n",
       "      <th>fbs</th>\n",
       "      <th>restecg</th>\n",
       "      <th>thalach</th>\n",
       "      <th>exang</th>\n",
       "      <th>oldpeak</th>\n",
       "      <th>slope</th>\n",
       "      <th>ca</th>\n",
       "      <th>thal</th>\n",
       "    </tr>\n",
       "  </thead>\n",
       "  <tbody>\n",
       "    <tr>\n",
       "      <th>0</th>\n",
       "      <td>63</td>\n",
       "      <td>1</td>\n",
       "      <td>3</td>\n",
       "      <td>145</td>\n",
       "      <td>233</td>\n",
       "      <td>1</td>\n",
       "      <td>0</td>\n",
       "      <td>150</td>\n",
       "      <td>0</td>\n",
       "      <td>2.3</td>\n",
       "      <td>0</td>\n",
       "      <td>0</td>\n",
       "      <td>1</td>\n",
       "    </tr>\n",
       "    <tr>\n",
       "      <th>1</th>\n",
       "      <td>37</td>\n",
       "      <td>1</td>\n",
       "      <td>2</td>\n",
       "      <td>130</td>\n",
       "      <td>250</td>\n",
       "      <td>0</td>\n",
       "      <td>1</td>\n",
       "      <td>187</td>\n",
       "      <td>0</td>\n",
       "      <td>3.5</td>\n",
       "      <td>0</td>\n",
       "      <td>0</td>\n",
       "      <td>2</td>\n",
       "    </tr>\n",
       "    <tr>\n",
       "      <th>2</th>\n",
       "      <td>41</td>\n",
       "      <td>0</td>\n",
       "      <td>1</td>\n",
       "      <td>130</td>\n",
       "      <td>204</td>\n",
       "      <td>0</td>\n",
       "      <td>0</td>\n",
       "      <td>172</td>\n",
       "      <td>0</td>\n",
       "      <td>1.4</td>\n",
       "      <td>2</td>\n",
       "      <td>0</td>\n",
       "      <td>2</td>\n",
       "    </tr>\n",
       "    <tr>\n",
       "      <th>3</th>\n",
       "      <td>56</td>\n",
       "      <td>1</td>\n",
       "      <td>1</td>\n",
       "      <td>120</td>\n",
       "      <td>236</td>\n",
       "      <td>0</td>\n",
       "      <td>1</td>\n",
       "      <td>178</td>\n",
       "      <td>0</td>\n",
       "      <td>0.8</td>\n",
       "      <td>2</td>\n",
       "      <td>0</td>\n",
       "      <td>2</td>\n",
       "    </tr>\n",
       "    <tr>\n",
       "      <th>4</th>\n",
       "      <td>57</td>\n",
       "      <td>0</td>\n",
       "      <td>0</td>\n",
       "      <td>120</td>\n",
       "      <td>354</td>\n",
       "      <td>0</td>\n",
       "      <td>1</td>\n",
       "      <td>163</td>\n",
       "      <td>1</td>\n",
       "      <td>0.6</td>\n",
       "      <td>2</td>\n",
       "      <td>0</td>\n",
       "      <td>2</td>\n",
       "    </tr>\n",
       "    <tr>\n",
       "      <th>5</th>\n",
       "      <td>57</td>\n",
       "      <td>1</td>\n",
       "      <td>0</td>\n",
       "      <td>140</td>\n",
       "      <td>192</td>\n",
       "      <td>0</td>\n",
       "      <td>1</td>\n",
       "      <td>148</td>\n",
       "      <td>0</td>\n",
       "      <td>0.4</td>\n",
       "      <td>1</td>\n",
       "      <td>0</td>\n",
       "      <td>1</td>\n",
       "    </tr>\n",
       "    <tr>\n",
       "      <th>6</th>\n",
       "      <td>56</td>\n",
       "      <td>0</td>\n",
       "      <td>1</td>\n",
       "      <td>140</td>\n",
       "      <td>294</td>\n",
       "      <td>0</td>\n",
       "      <td>0</td>\n",
       "      <td>153</td>\n",
       "      <td>0</td>\n",
       "      <td>1.3</td>\n",
       "      <td>1</td>\n",
       "      <td>0</td>\n",
       "      <td>2</td>\n",
       "    </tr>\n",
       "    <tr>\n",
       "      <th>7</th>\n",
       "      <td>44</td>\n",
       "      <td>1</td>\n",
       "      <td>1</td>\n",
       "      <td>120</td>\n",
       "      <td>263</td>\n",
       "      <td>0</td>\n",
       "      <td>1</td>\n",
       "      <td>173</td>\n",
       "      <td>0</td>\n",
       "      <td>0.0</td>\n",
       "      <td>2</td>\n",
       "      <td>0</td>\n",
       "      <td>3</td>\n",
       "    </tr>\n",
       "    <tr>\n",
       "      <th>8</th>\n",
       "      <td>52</td>\n",
       "      <td>1</td>\n",
       "      <td>2</td>\n",
       "      <td>172</td>\n",
       "      <td>199</td>\n",
       "      <td>1</td>\n",
       "      <td>1</td>\n",
       "      <td>162</td>\n",
       "      <td>0</td>\n",
       "      <td>0.5</td>\n",
       "      <td>2</td>\n",
       "      <td>0</td>\n",
       "      <td>3</td>\n",
       "    </tr>\n",
       "    <tr>\n",
       "      <th>9</th>\n",
       "      <td>57</td>\n",
       "      <td>1</td>\n",
       "      <td>2</td>\n",
       "      <td>150</td>\n",
       "      <td>168</td>\n",
       "      <td>0</td>\n",
       "      <td>1</td>\n",
       "      <td>174</td>\n",
       "      <td>0</td>\n",
       "      <td>1.6</td>\n",
       "      <td>2</td>\n",
       "      <td>0</td>\n",
       "      <td>2</td>\n",
       "    </tr>\n",
       "  </tbody>\n",
       "</table>\n",
       "</div>"
      ],
      "text/plain": [
       "   age  sex  cp  trestbps  chol  fbs  restecg  thalach  exang  oldpeak  slope  \\\n",
       "0   63    1   3       145   233    1        0      150      0      2.3      0   \n",
       "1   37    1   2       130   250    0        1      187      0      3.5      0   \n",
       "2   41    0   1       130   204    0        0      172      0      1.4      2   \n",
       "3   56    1   1       120   236    0        1      178      0      0.8      2   \n",
       "4   57    0   0       120   354    0        1      163      1      0.6      2   \n",
       "5   57    1   0       140   192    0        1      148      0      0.4      1   \n",
       "6   56    0   1       140   294    0        0      153      0      1.3      1   \n",
       "7   44    1   1       120   263    0        1      173      0      0.0      2   \n",
       "8   52    1   2       172   199    1        1      162      0      0.5      2   \n",
       "9   57    1   2       150   168    0        1      174      0      1.6      2   \n",
       "\n",
       "   ca  thal  \n",
       "0   0     1  \n",
       "1   0     2  \n",
       "2   0     2  \n",
       "3   0     2  \n",
       "4   0     2  \n",
       "5   0     1  \n",
       "6   0     2  \n",
       "7   0     3  \n",
       "8   0     3  \n",
       "9   0     2  "
      ]
     },
     "execution_count": 32,
     "metadata": {},
     "output_type": "execute_result"
    }
   ],
   "source": [
    "X = data1.drop(['target'],axis='columns')\n",
    "X.head(10)"
   ]
  },
  {
   "cell_type": "code",
   "execution_count": 33,
   "id": "4a9283bd",
   "metadata": {
    "execution": {
     "iopub.execute_input": "2022-07-01T06:18:32.702779Z",
     "iopub.status.busy": "2022-07-01T06:18:32.702160Z",
     "iopub.status.idle": "2022-07-01T06:18:32.708402Z",
     "shell.execute_reply": "2022-07-01T06:18:32.707568Z"
    },
    "papermill": {
     "duration": 0.042711,
     "end_time": "2022-07-01T06:18:32.710265",
     "exception": false,
     "start_time": "2022-07-01T06:18:32.667554",
     "status": "completed"
    },
    "tags": []
   },
   "outputs": [
    {
     "data": {
      "text/plain": [
       "0    1\n",
       "1    1\n",
       "2    1\n",
       "Name: target, dtype: int64"
      ]
     },
     "execution_count": 33,
     "metadata": {},
     "output_type": "execute_result"
    }
   ],
   "source": [
    "y = data1.target\n",
    "y.head(3)"
   ]
  },
  {
   "cell_type": "code",
   "execution_count": 34,
   "id": "f6125e7e",
   "metadata": {
    "execution": {
     "iopub.execute_input": "2022-07-01T06:18:32.778354Z",
     "iopub.status.busy": "2022-07-01T06:18:32.777960Z",
     "iopub.status.idle": "2022-07-01T06:18:32.783815Z",
     "shell.execute_reply": "2022-07-01T06:18:32.783220Z"
    },
    "papermill": {
     "duration": 0.042643,
     "end_time": "2022-07-01T06:18:32.785524",
     "exception": false,
     "start_time": "2022-07-01T06:18:32.742881",
     "status": "completed"
    },
    "tags": []
   },
   "outputs": [
    {
     "data": {
      "text/plain": [
       "303"
      ]
     },
     "execution_count": 34,
     "metadata": {},
     "output_type": "execute_result"
    }
   ],
   "source": [
    "len(y)"
   ]
  },
  {
   "cell_type": "code",
   "execution_count": 35,
   "id": "44498376",
   "metadata": {
    "execution": {
     "iopub.execute_input": "2022-07-01T06:18:32.853459Z",
     "iopub.status.busy": "2022-07-01T06:18:32.852767Z",
     "iopub.status.idle": "2022-07-01T06:18:32.860188Z",
     "shell.execute_reply": "2022-07-01T06:18:32.859104Z"
    },
    "papermill": {
     "duration": 0.044112,
     "end_time": "2022-07-01T06:18:32.862294",
     "exception": false,
     "start_time": "2022-07-01T06:18:32.818182",
     "status": "completed"
    },
    "tags": []
   },
   "outputs": [
    {
     "data": {
      "text/plain": [
       "303"
      ]
     },
     "execution_count": 35,
     "metadata": {},
     "output_type": "execute_result"
    }
   ],
   "source": [
    "len(X)"
   ]
  },
  {
   "cell_type": "markdown",
   "id": "82534274",
   "metadata": {
    "papermill": {
     "duration": 0.040847,
     "end_time": "2022-07-01T06:18:32.939939",
     "exception": false,
     "start_time": "2022-07-01T06:18:32.899092",
     "status": "completed"
    },
    "tags": []
   },
   "source": [
    "### Creating Training and Test sample variables."
   ]
  },
  {
   "cell_type": "code",
   "execution_count": 36,
   "id": "d81aa445",
   "metadata": {
    "execution": {
     "iopub.execute_input": "2022-07-01T06:18:33.012160Z",
     "iopub.status.busy": "2022-07-01T06:18:33.010995Z",
     "iopub.status.idle": "2022-07-01T06:18:33.020161Z",
     "shell.execute_reply": "2022-07-01T06:18:33.018739Z"
    },
    "papermill": {
     "duration": 0.048733,
     "end_time": "2022-07-01T06:18:33.022815",
     "exception": false,
     "start_time": "2022-07-01T06:18:32.974082",
     "status": "completed"
    },
    "tags": []
   },
   "outputs": [],
   "source": [
    "X_train, X_test, y_train, y_test = train_test_split(X,y,test_size=0.2,random_state=10)"
   ]
  },
  {
   "cell_type": "markdown",
   "id": "64a52b5e",
   "metadata": {
    "papermill": {
     "duration": 0.034239,
     "end_time": "2022-07-01T06:18:33.094793",
     "exception": false,
     "start_time": "2022-07-01T06:18:33.060554",
     "status": "completed"
    },
    "tags": []
   },
   "source": [
    "# **7. MODEL BUILDING**"
   ]
  },
  {
   "cell_type": "markdown",
   "id": "d6063fc0",
   "metadata": {
    "papermill": {
     "duration": 0.032016,
     "end_time": "2022-07-01T06:18:33.160900",
     "exception": false,
     "start_time": "2022-07-01T06:18:33.128884",
     "status": "completed"
    },
    "tags": []
   },
   "source": [
    "## 1. Naive Bayes classifier"
   ]
  },
  {
   "cell_type": "code",
   "execution_count": 37,
   "id": "ef5a2e2f",
   "metadata": {
    "execution": {
     "iopub.execute_input": "2022-07-01T06:18:33.227138Z",
     "iopub.status.busy": "2022-07-01T06:18:33.226441Z",
     "iopub.status.idle": "2022-07-01T06:18:33.238317Z",
     "shell.execute_reply": "2022-07-01T06:18:33.237529Z"
    },
    "papermill": {
     "duration": 0.047152,
     "end_time": "2022-07-01T06:18:33.240179",
     "exception": false,
     "start_time": "2022-07-01T06:18:33.193027",
     "status": "completed"
    },
    "tags": []
   },
   "outputs": [
    {
     "data": {
      "text/plain": [
       "0.7049180327868853"
      ]
     },
     "execution_count": 37,
     "metadata": {},
     "output_type": "execute_result"
    }
   ],
   "source": [
    "model_1 = MultinomialNB()\n",
    "model_1.fit(X_train, y_train)\n",
    "nb=model_1.score(X_test, y_test)\n",
    "nb"
   ]
  },
  {
   "cell_type": "markdown",
   "id": "83b7c526",
   "metadata": {
    "papermill": {
     "duration": 0.032086,
     "end_time": "2022-07-01T06:18:33.304291",
     "exception": false,
     "start_time": "2022-07-01T06:18:33.272205",
     "status": "completed"
    },
    "tags": []
   },
   "source": [
    "## 2. Logistic Regression Algorithm."
   ]
  },
  {
   "cell_type": "code",
   "execution_count": 38,
   "id": "6e733ebf",
   "metadata": {
    "execution": {
     "iopub.execute_input": "2022-07-01T06:18:33.370698Z",
     "iopub.status.busy": "2022-07-01T06:18:33.370009Z",
     "iopub.status.idle": "2022-07-01T06:18:33.418002Z",
     "shell.execute_reply": "2022-07-01T06:18:33.417109Z"
    },
    "papermill": {
     "duration": 0.085204,
     "end_time": "2022-07-01T06:18:33.421617",
     "exception": false,
     "start_time": "2022-07-01T06:18:33.336413",
     "status": "completed"
    },
    "tags": []
   },
   "outputs": [
    {
     "name": "stderr",
     "output_type": "stream",
     "text": [
      "/opt/conda/lib/python3.7/site-packages/sklearn/linear_model/_logistic.py:818: ConvergenceWarning: lbfgs failed to converge (status=1):\n",
      "STOP: TOTAL NO. of ITERATIONS REACHED LIMIT.\n",
      "\n",
      "Increase the number of iterations (max_iter) or scale the data as shown in:\n",
      "    https://scikit-learn.org/stable/modules/preprocessing.html\n",
      "Please also refer to the documentation for alternative solver options:\n",
      "    https://scikit-learn.org/stable/modules/linear_model.html#logistic-regression\n",
      "  extra_warning_msg=_LOGISTIC_SOLVER_CONVERGENCE_MSG,\n"
     ]
    },
    {
     "data": {
      "text/plain": [
       "0.7704918032786885"
      ]
     },
     "execution_count": 38,
     "metadata": {},
     "output_type": "execute_result"
    }
   ],
   "source": [
    "model_2 = LogisticRegression()\n",
    "model_2.fit(X_train, y_train)\n",
    "lr=model_2.score(X_test, y_test)\n",
    "lr"
   ]
  },
  {
   "cell_type": "markdown",
   "id": "ea6ed503",
   "metadata": {
    "papermill": {
     "duration": 0.032912,
     "end_time": "2022-07-01T06:18:33.487922",
     "exception": false,
     "start_time": "2022-07-01T06:18:33.455010",
     "status": "completed"
    },
    "tags": []
   },
   "source": [
    "## 3. Random Forest Algorithm"
   ]
  },
  {
   "cell_type": "code",
   "execution_count": 39,
   "id": "8e76d08d",
   "metadata": {
    "execution": {
     "iopub.execute_input": "2022-07-01T06:18:33.556506Z",
     "iopub.status.busy": "2022-07-01T06:18:33.555506Z",
     "iopub.status.idle": "2022-07-01T06:18:33.630397Z",
     "shell.execute_reply": "2022-07-01T06:18:33.629542Z"
    },
    "papermill": {
     "duration": 0.111217,
     "end_time": "2022-07-01T06:18:33.632491",
     "exception": false,
     "start_time": "2022-07-01T06:18:33.521274",
     "status": "completed"
    },
    "tags": []
   },
   "outputs": [
    {
     "data": {
      "text/plain": [
       "0.7868852459016393"
      ]
     },
     "execution_count": 39,
     "metadata": {},
     "output_type": "execute_result"
    }
   ],
   "source": [
    "model_3 = RandomForestClassifier(n_estimators=30)\n",
    "model_3.fit(X_train, y_train)\n",
    "rf=model_3.score(X_test, y_test)\n",
    "rf"
   ]
  },
  {
   "cell_type": "markdown",
   "id": "3ad8fa1c",
   "metadata": {
    "papermill": {
     "duration": 0.032445,
     "end_time": "2022-07-01T06:18:33.697563",
     "exception": false,
     "start_time": "2022-07-01T06:18:33.665118",
     "status": "completed"
    },
    "tags": []
   },
   "source": [
    "## 4. Decision Tree Algorithm"
   ]
  },
  {
   "cell_type": "code",
   "execution_count": 40,
   "id": "933efd1e",
   "metadata": {
    "execution": {
     "iopub.execute_input": "2022-07-01T06:18:33.765446Z",
     "iopub.status.busy": "2022-07-01T06:18:33.764383Z",
     "iopub.status.idle": "2022-07-01T06:18:33.776867Z",
     "shell.execute_reply": "2022-07-01T06:18:33.775996Z"
    },
    "papermill": {
     "duration": 0.048211,
     "end_time": "2022-07-01T06:18:33.778703",
     "exception": false,
     "start_time": "2022-07-01T06:18:33.730492",
     "status": "completed"
    },
    "tags": []
   },
   "outputs": [
    {
     "data": {
      "text/plain": [
       "1.0"
      ]
     },
     "execution_count": 40,
     "metadata": {},
     "output_type": "execute_result"
    }
   ],
   "source": [
    "model_4 = tree.DecisionTreeClassifier(criterion='entropy')\n",
    "model_4.fit(X_train, y_train)\n",
    "dt=model_4.score(X_train, y_train)\n",
    "dt"
   ]
  },
  {
   "cell_type": "markdown",
   "id": "271789d2",
   "metadata": {
    "papermill": {
     "duration": 0.032852,
     "end_time": "2022-07-01T06:18:33.844848",
     "exception": false,
     "start_time": "2022-07-01T06:18:33.811996",
     "status": "completed"
    },
    "tags": []
   },
   "source": [
    "## 5. Support Vector Machine"
   ]
  },
  {
   "cell_type": "code",
   "execution_count": 41,
   "id": "54ae159b",
   "metadata": {
    "execution": {
     "iopub.execute_input": "2022-07-01T06:18:33.913731Z",
     "iopub.status.busy": "2022-07-01T06:18:33.913317Z",
     "iopub.status.idle": "2022-07-01T06:18:33.929407Z",
     "shell.execute_reply": "2022-07-01T06:18:33.928543Z"
    },
    "papermill": {
     "duration": 0.053269,
     "end_time": "2022-07-01T06:18:33.931219",
     "exception": false,
     "start_time": "2022-07-01T06:18:33.877950",
     "status": "completed"
    },
    "tags": []
   },
   "outputs": [
    {
     "data": {
      "text/plain": [
       "0.5901639344262295"
      ]
     },
     "execution_count": 41,
     "metadata": {},
     "output_type": "execute_result"
    }
   ],
   "source": [
    "model_5 = SVC()\n",
    "model_5.fit(X_train, y_train)\n",
    "sv=model_5.score(X_test, y_test)\n",
    "sv"
   ]
  },
  {
   "cell_type": "markdown",
   "id": "1a8c8841",
   "metadata": {
    "papermill": {
     "duration": 0.033085,
     "end_time": "2022-07-01T06:18:33.997136",
     "exception": false,
     "start_time": "2022-07-01T06:18:33.964051",
     "status": "completed"
    },
    "tags": []
   },
   "source": [
    "# **8. MODEL COMPARISON**"
   ]
  },
  {
   "cell_type": "markdown",
   "id": "7042f4c4",
   "metadata": {
    "execution": {
     "iopub.execute_input": "2022-06-15T17:41:54.071791Z",
     "iopub.status.busy": "2022-06-15T17:41:54.071031Z",
     "iopub.status.idle": "2022-06-15T17:41:54.076384Z",
     "shell.execute_reply": "2022-06-15T17:41:54.075242Z",
     "shell.execute_reply.started": "2022-06-15T17:41:54.071744Z"
    },
    "papermill": {
     "duration": 0.032822,
     "end_time": "2022-07-01T06:18:34.063224",
     "exception": false,
     "start_time": "2022-07-01T06:18:34.030402",
     "status": "completed"
    },
    "tags": []
   },
   "source": [
    "## Comparing MAchine Learning Models using their scores.\n"
   ]
  },
  {
   "cell_type": "code",
   "execution_count": 42,
   "id": "16efc07c",
   "metadata": {
    "execution": {
     "iopub.execute_input": "2022-07-01T06:18:34.131426Z",
     "iopub.status.busy": "2022-07-01T06:18:34.130776Z",
     "iopub.status.idle": "2022-07-01T06:18:34.207300Z",
     "shell.execute_reply": "2022-07-01T06:18:34.206388Z"
    },
    "papermill": {
     "duration": 0.112986,
     "end_time": "2022-07-01T06:18:34.209266",
     "exception": false,
     "start_time": "2022-07-01T06:18:34.096280",
     "status": "completed"
    },
    "tags": []
   },
   "outputs": [
    {
     "data": {
      "text/html": [
       "<style type=\"text/css\">\n",
       "#T_ac9d7_row0_col1 {\n",
       "  background-color: #e9f7b1;\n",
       "  color: #000000;\n",
       "}\n",
       "#T_ac9d7_row1_col1 {\n",
       "  background-color: #d0edb3;\n",
       "  color: #000000;\n",
       "}\n",
       "#T_ac9d7_row2_col1 {\n",
       "  background-color: #caeab4;\n",
       "  color: #000000;\n",
       "}\n",
       "#T_ac9d7_row3_col1 {\n",
       "  background-color: #40b5c4;\n",
       "  color: #f1f1f1;\n",
       "}\n",
       "#T_ac9d7_row4_col1 {\n",
       "  background-color: #ffffd9;\n",
       "  color: #000000;\n",
       "}\n",
       "</style>\n",
       "<table id=\"T_ac9d7_\">\n",
       "  <thead>\n",
       "    <tr>\n",
       "      <th class=\"blank level0\" >&nbsp;</th>\n",
       "      <th class=\"col_heading level0 col0\" >Algorithms</th>\n",
       "      <th class=\"col_heading level0 col1\" >Accuracy_Score</th>\n",
       "    </tr>\n",
       "  </thead>\n",
       "  <tbody>\n",
       "    <tr>\n",
       "      <th id=\"T_ac9d7_level0_row0\" class=\"row_heading level0 row0\" >0</th>\n",
       "      <td id=\"T_ac9d7_row0_col0\" class=\"data row0 col0\" >NaiveBayesClassifier</td>\n",
       "      <td id=\"T_ac9d7_row0_col1\" class=\"data row0 col1\" >0.704918</td>\n",
       "    </tr>\n",
       "    <tr>\n",
       "      <th id=\"T_ac9d7_level0_row1\" class=\"row_heading level0 row1\" >1</th>\n",
       "      <td id=\"T_ac9d7_row1_col0\" class=\"data row1 col0\" >LogisticRegression</td>\n",
       "      <td id=\"T_ac9d7_row1_col1\" class=\"data row1 col1\" >0.770492</td>\n",
       "    </tr>\n",
       "    <tr>\n",
       "      <th id=\"T_ac9d7_level0_row2\" class=\"row_heading level0 row2\" >2</th>\n",
       "      <td id=\"T_ac9d7_row2_col0\" class=\"data row2 col0\" >RandomForestClassifier</td>\n",
       "      <td id=\"T_ac9d7_row2_col1\" class=\"data row2 col1\" >0.786885</td>\n",
       "    </tr>\n",
       "    <tr>\n",
       "      <th id=\"T_ac9d7_level0_row3\" class=\"row_heading level0 row3\" >3</th>\n",
       "      <td id=\"T_ac9d7_row3_col0\" class=\"data row3 col0\" >DecisonTreeClassifier</td>\n",
       "      <td id=\"T_ac9d7_row3_col1\" class=\"data row3 col1\" >1.000000</td>\n",
       "    </tr>\n",
       "    <tr>\n",
       "      <th id=\"T_ac9d7_level0_row4\" class=\"row_heading level0 row4\" >4</th>\n",
       "      <td id=\"T_ac9d7_row4_col0\" class=\"data row4 col0\" >SVC</td>\n",
       "      <td id=\"T_ac9d7_row4_col1\" class=\"data row4 col1\" >0.590164</td>\n",
       "    </tr>\n",
       "  </tbody>\n",
       "</table>\n"
      ],
      "text/plain": [
       "<pandas.io.formats.style.Styler at 0x7fb02989d610>"
      ]
     },
     "execution_count": 42,
     "metadata": {},
     "output_type": "execute_result"
    }
   ],
   "source": [
    "accuracy = [nb,lr,rf,dt,sv]\n",
    "all_models = ['NaiveBayesClassifier','LogisticRegression','RandomForestClassifier','DecisonTreeClassifier','SVC']\n",
    "\n",
    "score_df = pd.DataFrame({'Algorithms': all_models, 'Accuracy_Score': accuracy})\n",
    "score_df.style.background_gradient(cmap=\"YlGnBu\",high=1,axis=0)"
   ]
  },
  {
   "cell_type": "code",
   "execution_count": 43,
   "id": "b1d29a0e",
   "metadata": {
    "execution": {
     "iopub.execute_input": "2022-07-01T06:18:34.277691Z",
     "iopub.status.busy": "2022-07-01T06:18:34.277290Z",
     "iopub.status.idle": "2022-07-01T06:18:34.529810Z",
     "shell.execute_reply": "2022-07-01T06:18:34.529140Z"
    },
    "papermill": {
     "duration": 0.289344,
     "end_time": "2022-07-01T06:18:34.531883",
     "exception": false,
     "start_time": "2022-07-01T06:18:34.242539",
     "status": "completed"
    },
    "tags": []
   },
   "outputs": [
    {
     "data": {
      "image/png": "[encoded data removed]",
      "text/plain": [
       "<Figure size 576x432 with 1 Axes>"
      ]
     },
     "metadata": {},
     "output_type": "display_data"
    }
   ],
   "source": [
    "mylist=[]\n",
    "mylist2=[]\n",
    "mylist.append(nb)\n",
    "mylist2.append(\"Naive Bayes\")\n",
    "mylist.append(lr)\n",
    "mylist2.append(\"Logistic Regression\")\n",
    "mylist.append(rf)\n",
    "mylist2.append(\"Random Forest\")\n",
    "mylist.append(dt)\n",
    "mylist2.append(\"Decision Tree\")\n",
    "mylist.append(sv)\n",
    "mylist2.append(\"SVM\")\n",
    "plt.rcParams['figure.figsize']=8,6\n",
    "sns.set_style(\"darkgrid\")\n",
    "pal_style=['#F38BB2','#4C0028','#8A0030','#100C07','#FF0000']\n",
    "ax = sns.barplot(x=mylist2, y=mylist, palette = pal_style, saturation =1.5)\n",
    "plt.xlabel(\"Classification Models\", fontsize = 20 )\n",
    "plt.ylabel(\"Accuracy\", fontsize = 20)\n",
    "plt.title(\"Accuracy of different Classification Models\", fontsize = 20)\n",
    "plt.xticks(fontsize = 11, horizontalalignment = 'center', rotation = 8)\n",
    "plt.yticks(fontsize = 13)\n",
    "for p in ax.patches:\n",
    "    width, height = p.get_width(), p.get_height()\n",
    "    x, y = p.get_xy() \n",
    "    ax.annotate(f'{height:.2%}', (x + width/2, y + height*1.02), ha='center', fontsize = 'x-large')\n",
    "plt.show()\n"
   ]
  },
  {
   "cell_type": "markdown",
   "id": "db83e22e",
   "metadata": {
    "papermill": {
     "duration": 0.034142,
     "end_time": "2022-07-01T06:18:34.600820",
     "exception": false,
     "start_time": "2022-07-01T06:18:34.566678",
     "status": "completed"
    },
    "tags": []
   },
   "source": [
    "## Decesion Tree Classifier showed highest score. Hence, it is decided to use it as the final model for prediction."
   ]
  },
  {
   "cell_type": "markdown",
   "id": "a3d44450",
   "metadata": {
    "papermill": {
     "duration": 0.034343,
     "end_time": "2022-07-01T06:18:34.669848",
     "exception": false,
     "start_time": "2022-07-01T06:18:34.635505",
     "status": "completed"
    },
    "tags": []
   },
   "source": [
    "# **9. CASE PREDICTION**"
   ]
  },
  {
   "cell_type": "markdown",
   "id": "3c6cfbb5",
   "metadata": {
    "papermill": {
     "duration": 0.034211,
     "end_time": "2022-07-01T06:18:34.739497",
     "exception": false,
     "start_time": "2022-07-01T06:18:34.705286",
     "status": "completed"
    },
    "tags": []
   },
   "source": [
    "## Patient_1 Data to predict whether he has a Heart Disease or not.\n",
    "\n",
    "age :  56\n",
    "    \n",
    "sex :  1(Female)\n",
    "    \n",
    "cp :  1\n",
    "    \n",
    "trestbps :  120\n",
    "    \n",
    "chol :  236\n",
    "    \n",
    "fbs :  0  (<120 mg/dl) \n",
    "    \n",
    "restecg :  1\n",
    "    \n",
    "thalach :  178\n",
    "    \n",
    "exang :  0\n",
    "    \n",
    "oldpeak :  0.8\n",
    "    \n",
    "slope :  2\n",
    "    \n",
    "ca :  0\n",
    "      \n",
    "thal :  2"
   ]
  },
  {
   "cell_type": "code",
   "execution_count": 44,
   "id": "dd824afe",
   "metadata": {
    "execution": {
     "iopub.execute_input": "2022-07-01T06:18:34.812677Z",
     "iopub.status.busy": "2022-07-01T06:18:34.812107Z",
     "iopub.status.idle": "2022-07-01T06:18:34.822155Z",
     "shell.execute_reply": "2022-07-01T06:18:34.821096Z"
    },
    "papermill": {
     "duration": 0.049893,
     "end_time": "2022-07-01T06:18:34.823892",
     "exception": false,
     "start_time": "2022-07-01T06:18:34.773999",
     "status": "completed"
    },
    "tags": []
   },
   "outputs": [
    {
     "name": "stderr",
     "output_type": "stream",
     "text": [
      "/opt/conda/lib/python3.7/site-packages/sklearn/base.py:451: UserWarning: X does not have valid feature names, but DecisionTreeClassifier was fitted with feature names\n",
      "  \"X does not have valid feature names, but\"\n"
     ]
    },
    {
     "data": {
      "text/plain": [
       "array([1])"
      ]
     },
     "execution_count": 44,
     "metadata": {},
     "output_type": "execute_result"
    }
   ],
   "source": [
    "model_4.predict([[56,1,1,120,236,0,1,178,0,0.8,2,0,2]])"
   ]
  },
  {
   "cell_type": "markdown",
   "id": "7f0f1ac3",
   "metadata": {
    "papermill": {
     "duration": 0.033786,
     "end_time": "2022-07-01T06:18:34.891638",
     "exception": false,
     "start_time": "2022-07-01T06:18:34.857852",
     "status": "completed"
    },
    "tags": []
   },
   "source": [
    "### Observation:\n",
    "\n",
    "###    From prediction using best model it can be seen that the patient has heart disease."
   ]
  },
  {
   "cell_type": "markdown",
   "id": "52953f3a",
   "metadata": {
    "execution": {
     "iopub.execute_input": "2022-06-15T17:45:57.307255Z",
     "iopub.status.busy": "2022-06-15T17:45:57.306803Z",
     "iopub.status.idle": "2022-06-15T17:45:57.315168Z",
     "shell.execute_reply": "2022-06-15T17:45:57.314198Z",
     "shell.execute_reply.started": "2022-06-15T17:45:57.307222Z"
    },
    "papermill": {
     "duration": 0.034049,
     "end_time": "2022-07-01T06:18:34.960636",
     "exception": false,
     "start_time": "2022-07-01T06:18:34.926587",
     "status": "completed"
    },
    "tags": []
   },
   "source": [
    "## Patient_2 Data to predict whether he has a Heart Disease or not.\n",
    "\n",
    "age :  57\n",
    "    \n",
    "sex :  1(Female)\n",
    "    \n",
    "cp :  0\n",
    "    \n",
    "trestbps :  130\n",
    "    \n",
    "chol :  131\n",
    "    \n",
    "fbs :  0  (<120 mg/dl) \n",
    "    \n",
    "restecg :  1\n",
    "    \n",
    "thalach :  115\n",
    "    \n",
    "exang :  1\n",
    "    \n",
    "oldpeak :  1.2\n",
    "    \n",
    "slope :  1\n",
    "    \n",
    "ca :  1\n",
    "      \n",
    "thal :  3"
   ]
  },
  {
   "cell_type": "code",
   "execution_count": 45,
   "id": "0bc90e63",
   "metadata": {
    "execution": {
     "iopub.execute_input": "2022-07-01T06:18:35.031209Z",
     "iopub.status.busy": "2022-07-01T06:18:35.030582Z",
     "iopub.status.idle": "2022-07-01T06:18:35.039520Z",
     "shell.execute_reply": "2022-07-01T06:18:35.038311Z"
    },
    "papermill": {
     "duration": 0.04656,
     "end_time": "2022-07-01T06:18:35.041704",
     "exception": false,
     "start_time": "2022-07-01T06:18:34.995144",
     "status": "completed"
    },
    "tags": []
   },
   "outputs": [
    {
     "name": "stderr",
     "output_type": "stream",
     "text": [
      "/opt/conda/lib/python3.7/site-packages/sklearn/base.py:451: UserWarning: X does not have valid feature names, but DecisionTreeClassifier was fitted with feature names\n",
      "  \"X does not have valid feature names, but\"\n"
     ]
    },
    {
     "data": {
      "text/plain": [
       "array([0])"
      ]
     },
     "execution_count": 45,
     "metadata": {},
     "output_type": "execute_result"
    }
   ],
   "source": [
    "model_4.predict([[57,1,0,130,131,0,1,115,1,1.2,1,1,3]])"
   ]
  },
  {
   "cell_type": "markdown",
   "id": "685fc57a",
   "metadata": {
    "papermill": {
     "duration": 0.035548,
     "end_time": "2022-07-01T06:18:35.113339",
     "exception": false,
     "start_time": "2022-07-01T06:18:35.077791",
     "status": "completed"
    },
    "tags": []
   },
   "source": [
    "### Observation:\n",
    "\n",
    "### From prediction using best model it can be seen that the patient has no heart disease detected."
   ]
  },
  {
   "cell_type": "markdown",
   "id": "3ed47dde",
   "metadata": {
    "papermill": {
     "duration": 0.035023,
     "end_time": "2022-07-01T06:18:35.183843",
     "exception": false,
     "start_time": "2022-07-01T06:18:35.148820",
     "status": "completed"
    },
    "tags": []
   },
   "source": [
    "# **10. MODEL EXPORT**"
   ]
  },
  {
   "cell_type": "markdown",
   "id": "1107fc7a",
   "metadata": {
    "papermill": {
     "duration": 0.03475,
     "end_time": "2022-07-01T06:18:35.253214",
     "exception": false,
     "start_time": "2022-07-01T06:18:35.218464",
     "status": "completed"
    },
    "tags": []
   },
   "source": [
    "# Export Decesion Tree model to pickle (.pkl) file."
   ]
  },
  {
   "cell_type": "markdown",
   "id": "fafa8123",
   "metadata": {
    "papermill": {
     "duration": 0.034558,
     "end_time": "2022-07-01T06:18:35.322899",
     "exception": false,
     "start_time": "2022-07-01T06:18:35.288341",
     "status": "completed"
    },
    "tags": []
   },
   "source": [
    "# **THANK YOU!**"
   ]
  }
 ],
 "metadata": {
  "kernelspec": {
   "display_name": "Python 3 (ipykernel)",
   "language": "python",
   "name": "python3"
  },
  "language_info": {
   "codemirror_mode": {
    "name": "ipython",
    "version": 3
   },
   "file_extension": ".py",
   "mimetype": "text/x-python",
   "name": "python",
   "nbconvert_exporter": "python",
   "pygments_lexer": "ipython3",
   "version": "3.7.16"
  },
  "papermill": {
   "default_parameters": {},
   "duration": 23.410914,
   "end_time": "2022-07-01T06:18:36.481276",
   "environment_variables": {},
   "exception": null,
   "input_path": "__notebook__.ipynb",
   "output_path": "__notebook__.ipynb",
   "parameters": {},
   "start_time": "2022-07-01T06:18:13.070362",
   "version": "2.3.4"
  }
 },
 "nbformat": 4,
 "nbformat_minor": 5
}
